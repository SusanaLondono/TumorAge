{
 "cells": [
  {
   "cell_type": "markdown",
   "metadata": {},
   "source": [
    "# Introduction\n",
    "\n",
    "Every cell in the body is a direct descendant of the fertilized egg from which each of us developed, through time the DNA sequence of a cell acquires a set of differences from its progenitor, this variations are called somatic mutations _(Stratton, et al., 2009)(Yates & Campbell, 2012)_. Somatic mutations can be classified by the type of change in the DNA sequence, substitutions, insertions, deletions, rearrangements and change in copy numbers. Mutations can occur all over the genome, depending on the genome localization they will affect the protein structure, and can also be classified into missense, nonsense and frameshift mutations (Lodish, et al., 2000)(Tate, et al., 2018).  "
   ]
  },
  {
   "cell_type": "markdown",
   "metadata": {},
   "source": [
    "All cancer arise as a result of a somatic mutation, that does not mean that all somatic variations in the DNA of cancer cells have been involved in development of the tumour, the ones that have been positively selected or “Driver” mutations confer an advantage, they reside in the “cancer genes”, the rest of the mutations are called “passenger” mutations, they do not confer any advantage and haven’t been selected, they just happened to be there (Stratton, et al., 2009)(Nik-Zainal, et al. 2012a). The evolution of cancer is a series of actions constant acquisition of mutations and natural selection, these processes mark the genome, and a cancer’s life history is encrypted in the somatic mutations that we can find in its genome (Stratton, et al., 2009)(Nik-Zainal, et al., 2012b)(Yates & Campbell, 2012). "
   ]
  },
  {
   "cell_type": "markdown",
   "metadata": {},
   "source": [
    "An important thing in history is time, knowing how long has been the tumor evolving can help determine which pattern of mutation interaction, such as mutual exclusivity or co-occurrence, is in action. This is especially important because such patterns help finding unknown functional interactions that might be important for diagnosis, tumor classification, prognosis and treatment (Ochoa, et al. 2019). "
   ]
  },
  {
   "cell_type": "markdown",
   "metadata": {},
   "source": [
    "As said before, the catalogue of mutations present in the genome has the history of the cancer cell evolution, this information can be used to determine the age of the tumor, in this paper we will present a method to determine the evolutive age of a tumor in terms of the somatic mutations with low or no selection pressure present in the cancer genome."
   ]
  },
  {
   "cell_type": "markdown",
   "metadata": {},
   "source": [
    "Studies show that the accumulation of mutations can be accelerated due to genome instability, increased sensitivity to mutagenic agents and breakdown of genomic maintenance (Hanahan & Weinberg, 2011; Negrini, et al., 2010), according to this we can make the assumption that the mutations present before the tumor started to evolve are negligible in number."
   ]
  },
  {
   "cell_type": "markdown",
   "metadata": {},
   "source": [
    "# Methods and Data:\n",
    "\n",
    "__Data__:  All data used in this paper is available online in: https://gdac.broadinstitute.org. \n",
    "\n",
    "__Methods__:\n"
   ]
  },
  {
   "cell_type": "markdown",
   "metadata": {},
   "source": [
    "# Referencias\n",
    "\n",
    "+ Hanahan, D., & Weinberg, R.A. 2011. Hallmarks of cancer: the next generation. Cell, 144.\n",
    "+ Lodish H.B., Zipursky S.L., et al. 2000. Molecular Cell Biology. 4th edition. New York: W. H. Freeman. Section 8.1, Mutations: Types and Causes.\n",
    "+ Negrini, S., Gorgoulis, V.G., and Halazonetis, T.D. 2010. Genomic instability an evolving hallmark of cancer. Nat. Rev. Mol. Cell Biol,11\n",
    "+ Nik-Zainal, S., Alexandrov, L.B., Wedge, D.C., et al. 2012a. Mutational processes molding the genomes of 21 breast cancers. Cell, 149.\n",
    "+ Nik-Zainal, S., Van Loo, P., Wedge, D.C., et al. 2012b. The life history of 21 breast cancers. Cell, 149.\n",
    "+ Ochoa, S., Martínez-Pérez, E., Zea, D.J., et al. 2019. Co-mutation and exclusion analysis in human tumors, a means for cancer biology studies and treatment design. Human mutation. \n",
    "+ Stratton, M.R., Campbell, P.J., & Futreal, P.A. 2009. The cancer genome. Nature; 485.\n",
    "+ Tate, J.G., Bamford, S., Jubb, H.C., et al. 2018. COSMIC: the catalogue of somatic mutations in cancer. Nucleic acid research, 47.\n",
    "+ Yates, L.R., & Campbell,  P.J. 2012. Evolution of the cancer genome. Nat Rev Genet, 13."
   ]
  },
  {
   "cell_type": "code",
   "execution_count": null,
   "metadata": {
    "collapsed": true
   },
   "outputs": [],
   "source": []
  }
 ],
 "metadata": {
  "kernelspec": {
   "display_name": "Python 3",
   "language": "python",
   "name": "python3"
  },
  "language_info": {
   "codemirror_mode": {
    "name": "ipython",
    "version": 3
   },
   "file_extension": ".py",
   "mimetype": "text/x-python",
   "name": "python",
   "nbconvert_exporter": "python",
   "pygments_lexer": "ipython3",
   "version": "3.6.1"
  }
 },
 "nbformat": 4,
 "nbformat_minor": 2
}
