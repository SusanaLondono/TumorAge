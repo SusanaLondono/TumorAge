{
 "cells": [
  {
   "cell_type": "code",
   "execution_count": 1,
   "metadata": {
    "collapsed": true
   },
   "outputs": [],
   "source": [
    "import pandas as pd"
   ]
  },
  {
   "cell_type": "code",
   "execution_count": 2,
   "metadata": {},
   "outputs": [
    {
     "name": "stderr",
     "output_type": "stream",
     "text": [
      "C:\\ProgramData\\Anaconda3\\lib\\site-packages\\IPython\\core\\interactiveshell.py:2717: DtypeWarning: Columns (50,57,67,73,109,113,135,148,176) have mixed types. Specify dtype option on import or set low_memory=False.\n",
      "  interactivity=interactivity, compiler=compiler, result=result)\n"
     ]
    }
   ],
   "source": [
    "# Importando el archivo .maf anotado (Obtenido de: http://firebrowse.org/?cohort=KICH#)\n",
    "archivomaf = 'KICH-TP.maf.annotated'\n",
    "#encoding = \"ISO-8859-1\" (Se obtenia un error, se encontró que agregando esto, funciono)\n",
    "mafData = pd.read_csv(archivomaf, sep='\\t', encoding = \"ISO-8859-1\")"
   ]
  },
  {
   "cell_type": "markdown",
   "metadata": {},
   "source": [
    "Quiero estas columnas:\n",
    "    ['Hugo_Symbol', 'Chromosome', 'Variant_Classification',\n",
    "       'Variant_Type', 'i_HGNC_LocusType', 'is_coding', 'patient',\n",
    "       'MA_Func.Impact']"
   ]
  },
  {
   "cell_type": "code",
   "execution_count": 3,
   "metadata": {
    "collapsed": true
   },
   "outputs": [],
   "source": [
    "# Una copia de las columnas que quiero en un nuevo DataFrame:\n",
    "mafToSort = mafData[['Hugo_Symbol', 'Chromosome', 'Variant_Classification',\n",
    "       'Variant_Type', 'i_HGNC_LocusType', 'is_coding', 'patient',\n",
    "       'MA_Func.Impact']].copy()"
   ]
  },
  {
   "cell_type": "code",
   "execution_count": 4,
   "metadata": {},
   "outputs": [
    {
     "data": {
      "text/html": [
       "<div>\n",
       "<style>\n",
       "    .dataframe thead tr:only-child th {\n",
       "        text-align: right;\n",
       "    }\n",
       "\n",
       "    .dataframe thead th {\n",
       "        text-align: left;\n",
       "    }\n",
       "\n",
       "    .dataframe tbody tr th {\n",
       "        vertical-align: top;\n",
       "    }\n",
       "</style>\n",
       "<table border=\"1\" class=\"dataframe\">\n",
       "  <thead>\n",
       "    <tr style=\"text-align: right;\">\n",
       "      <th></th>\n",
       "      <th>Hugo_Symbol</th>\n",
       "      <th>Chromosome</th>\n",
       "      <th>Variant_Classification</th>\n",
       "      <th>Variant_Type</th>\n",
       "      <th>i_HGNC_LocusType</th>\n",
       "      <th>is_coding</th>\n",
       "      <th>patient</th>\n",
       "      <th>MA_Func.Impact</th>\n",
       "    </tr>\n",
       "  </thead>\n",
       "  <tbody>\n",
       "    <tr>\n",
       "      <th>5371</th>\n",
       "      <td>WDR62</td>\n",
       "      <td>19</td>\n",
       "      <td>Frame_Shift_Ins</td>\n",
       "      <td>INS</td>\n",
       "      <td>gene with protein product</td>\n",
       "      <td>1</td>\n",
       "      <td>TCGA-KL-8323-01A-21D-2310-10</td>\n",
       "      <td>NaN</td>\n",
       "    </tr>\n",
       "    <tr>\n",
       "      <th>5372</th>\n",
       "      <td>WDR62</td>\n",
       "      <td>19</td>\n",
       "      <td>Frame_Shift_Ins</td>\n",
       "      <td>INS</td>\n",
       "      <td>gene with protein product</td>\n",
       "      <td>1</td>\n",
       "      <td>TCGA-KL-8323-01A-21D-2310-10</td>\n",
       "      <td>NaN</td>\n",
       "    </tr>\n",
       "    <tr>\n",
       "      <th>2866</th>\n",
       "      <td>NOXA1</td>\n",
       "      <td>9</td>\n",
       "      <td>IGR</td>\n",
       "      <td>SNP</td>\n",
       "      <td>gene with protein product</td>\n",
       "      <td>0</td>\n",
       "      <td>TCGA-KL-8323-01A-21D-2310-10</td>\n",
       "      <td>NaN</td>\n",
       "    </tr>\n",
       "    <tr>\n",
       "      <th>217</th>\n",
       "      <td>OBSCN</td>\n",
       "      <td>1</td>\n",
       "      <td>Intron</td>\n",
       "      <td>SNP</td>\n",
       "      <td>gene with protein product</td>\n",
       "      <td>0</td>\n",
       "      <td>TCGA-KL-8323-01A-21D-2310-10</td>\n",
       "      <td>NaN</td>\n",
       "    </tr>\n",
       "    <tr>\n",
       "      <th>31</th>\n",
       "      <td>UBR4</td>\n",
       "      <td>1</td>\n",
       "      <td>Missense_Mutation</td>\n",
       "      <td>DNP</td>\n",
       "      <td>gene with protein product</td>\n",
       "      <td>1</td>\n",
       "      <td>TCGA-KL-8323-01A-21D-2310-10</td>\n",
       "      <td>NaN</td>\n",
       "    </tr>\n",
       "  </tbody>\n",
       "</table>\n",
       "</div>"
      ],
      "text/plain": [
       "     Hugo_Symbol  Chromosome Variant_Classification Variant_Type  \\\n",
       "5371       WDR62          19        Frame_Shift_Ins          INS   \n",
       "5372       WDR62          19        Frame_Shift_Ins          INS   \n",
       "2866       NOXA1           9                    IGR          SNP   \n",
       "217        OBSCN           1                 Intron          SNP   \n",
       "31          UBR4           1      Missense_Mutation          DNP   \n",
       "\n",
       "               i_HGNC_LocusType  is_coding                       patient  \\\n",
       "5371  gene with protein product          1  TCGA-KL-8323-01A-21D-2310-10   \n",
       "5372  gene with protein product          1  TCGA-KL-8323-01A-21D-2310-10   \n",
       "2866  gene with protein product          0  TCGA-KL-8323-01A-21D-2310-10   \n",
       "217   gene with protein product          0  TCGA-KL-8323-01A-21D-2310-10   \n",
       "31    gene with protein product          1  TCGA-KL-8323-01A-21D-2310-10   \n",
       "\n",
       "     MA_Func.Impact  \n",
       "5371            NaN  \n",
       "5372            NaN  \n",
       "2866            NaN  \n",
       "217             NaN  \n",
       "31              NaN  "
      ]
     },
     "execution_count": 4,
     "metadata": {},
     "output_type": "execute_result"
    }
   ],
   "source": [
    "data_SortPatient = mafToSort.sort_values(['patient','Variant_Classification', 'i_HGNC_LocusType'])\n",
    "data_SortPatient.head(5)"
   ]
  },
  {
   "cell_type": "code",
   "execution_count": 18,
   "metadata": {
    "collapsed": true
   },
   "outputs": [],
   "source": [
    "# Guardo el archivo: \n",
    "# Con las columnas que quiero\n",
    "# Ordenado por: paciente, Variant Classification y locus type\n",
    "data_SortPatient.to_csv('maf_OrdenadoxPaciente.txt', sep='\\t', encoding='utf-8')"
   ]
  }
 ],
 "metadata": {
  "kernelspec": {
   "display_name": "Python 3",
   "language": "python",
   "name": "python3"
  },
  "language_info": {
   "codemirror_mode": {
    "name": "ipython",
    "version": 3
   },
   "file_extension": ".py",
   "mimetype": "text/x-python",
   "name": "python",
   "nbconvert_exporter": "python",
   "pygments_lexer": "ipython3",
   "version": "3.6.1"
  }
 },
 "nbformat": 4,
 "nbformat_minor": 2
}
