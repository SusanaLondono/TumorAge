{
 "cells": [
  {
   "cell_type": "code",
   "execution_count": 1,
   "metadata": {
    "collapsed": true
   },
   "outputs": [],
   "source": [
    "import pandas as pd"
   ]
  },
  {
   "cell_type": "code",
   "execution_count": 2,
   "metadata": {},
   "outputs": [
    {
     "name": "stderr",
     "output_type": "stream",
     "text": [
      "C:\\ProgramData\\Anaconda3\\lib\\site-packages\\IPython\\core\\interactiveshell.py:2717: DtypeWarning: Columns (50,57,62,63,67,70,72,73,75,76,105,108,109,113,122,124,131,132,135,136,145,150,151,163,164,179,205,302,303,304,318,319,320,354) have mixed types. Specify dtype option on import or set low_memory=False.\n",
      "  interactivity=interactivity, compiler=compiler, result=result)\n"
     ]
    }
   ],
   "source": [
    "# Importando el archivo .maf anotado (Obtenido de: http://firebrowse.org/?cohort=KICH#)\n",
    "archivomaf = 'BRCA-TP.maf.annotated'\n",
    "#encoding = \"ISO-8859-1\" (Se obtenia un error, se encontró que agregando esto, funciono)\n",
    "mafData = pd.read_csv(archivomaf, sep='\\t', encoding = \"ISO-8859-1\")"
   ]
  },
  {
   "cell_type": "markdown",
   "metadata": {},
   "source": [
    "Quiero estas columnas:\n",
    "    ['Hugo_Symbol', 'Chromosome', 'Variant_Classification',\n",
    "       'Variant_Type', 'i_HGNC_LocusType', 'is_coding', 'patient',\n",
    "       'MA_Func.Impact']"
   ]
  },
  {
   "cell_type": "code",
   "execution_count": 3,
   "metadata": {
    "collapsed": true
   },
   "outputs": [],
   "source": [
    "# Una copia de las columnas que quiero en un nuevo DataFrame:\n",
    "mafToSort = mafData[['Hugo_Symbol', 'Chromosome', 'Variant_Classification',\n",
    "       'Variant_Type', 'i_HGNC_LocusType', 'is_coding', 'patient',\n",
    "       'MA_Func.Impact']].copy()"
   ]
  },
  {
   "cell_type": "code",
   "execution_count": 9,
   "metadata": {},
   "outputs": [],
   "source": [
    "mafToSort.columns = ['Hugo_Symbol', 'Chromosome', 'Variant_Classification',\n",
    "       'Variant_Type', 'i_HGNC_LocusType', 'is_coding', 'patient',\n",
    "       'MA_Func_Impact']\n",
    "#mafToSort"
   ]
  },
  {
   "cell_type": "code",
   "execution_count": 10,
   "metadata": {},
   "outputs": [
    {
     "data": {
      "text/html": [
       "<div>\n",
       "<style>\n",
       "    .dataframe thead tr:only-child th {\n",
       "        text-align: right;\n",
       "    }\n",
       "\n",
       "    .dataframe thead th {\n",
       "        text-align: left;\n",
       "    }\n",
       "\n",
       "    .dataframe tbody tr th {\n",
       "        vertical-align: top;\n",
       "    }\n",
       "</style>\n",
       "<table border=\"1\" class=\"dataframe\">\n",
       "  <thead>\n",
       "    <tr style=\"text-align: right;\">\n",
       "      <th></th>\n",
       "      <th>Hugo_Symbol</th>\n",
       "      <th>Chromosome</th>\n",
       "      <th>Variant_Classification</th>\n",
       "      <th>Variant_Type</th>\n",
       "      <th>i_HGNC_LocusType</th>\n",
       "      <th>is_coding</th>\n",
       "      <th>patient</th>\n",
       "      <th>MA_Func_Impact</th>\n",
       "    </tr>\n",
       "  </thead>\n",
       "  <tbody>\n",
       "    <tr>\n",
       "      <th>23281</th>\n",
       "      <td>MSH3</td>\n",
       "      <td>5</td>\n",
       "      <td>Frame_Shift_Del</td>\n",
       "      <td>DEL</td>\n",
       "      <td>gene with protein product</td>\n",
       "      <td>1</td>\n",
       "      <td>TCGA-A1-A0SB-01A-11D-A142-09</td>\n",
       "      <td>NaN</td>\n",
       "    </tr>\n",
       "    <tr>\n",
       "      <th>64214</th>\n",
       "      <td>ZNF566</td>\n",
       "      <td>19</td>\n",
       "      <td>Frame_Shift_Del</td>\n",
       "      <td>DEL</td>\n",
       "      <td>gene with protein product</td>\n",
       "      <td>1</td>\n",
       "      <td>TCGA-A1-A0SB-01A-11D-A142-09</td>\n",
       "      <td>NaN</td>\n",
       "    </tr>\n",
       "    <tr>\n",
       "      <th>26802</th>\n",
       "      <td>MYB</td>\n",
       "      <td>6</td>\n",
       "      <td>Frame_Shift_Ins</td>\n",
       "      <td>INS</td>\n",
       "      <td>gene with protein product</td>\n",
       "      <td>1</td>\n",
       "      <td>TCGA-A1-A0SB-01A-11D-A142-09</td>\n",
       "      <td>NaN</td>\n",
       "    </tr>\n",
       "    <tr>\n",
       "      <th>1471</th>\n",
       "      <td>SLC6A9</td>\n",
       "      <td>1</td>\n",
       "      <td>Missense_Mutation</td>\n",
       "      <td>SNP</td>\n",
       "      <td>gene with protein product</td>\n",
       "      <td>1</td>\n",
       "      <td>TCGA-A1-A0SB-01A-11D-A142-09</td>\n",
       "      <td>high</td>\n",
       "    </tr>\n",
       "    <tr>\n",
       "      <th>12526</th>\n",
       "      <td>DTNB</td>\n",
       "      <td>2</td>\n",
       "      <td>Missense_Mutation</td>\n",
       "      <td>SNP</td>\n",
       "      <td>gene with protein product</td>\n",
       "      <td>1</td>\n",
       "      <td>TCGA-A1-A0SB-01A-11D-A142-09</td>\n",
       "      <td>medium</td>\n",
       "    </tr>\n",
       "  </tbody>\n",
       "</table>\n",
       "</div>"
      ],
      "text/plain": [
       "      Hugo_Symbol  Chromosome Variant_Classification Variant_Type  \\\n",
       "23281        MSH3           5        Frame_Shift_Del          DEL   \n",
       "64214      ZNF566          19        Frame_Shift_Del          DEL   \n",
       "26802         MYB           6        Frame_Shift_Ins          INS   \n",
       "1471       SLC6A9           1      Missense_Mutation          SNP   \n",
       "12526        DTNB           2      Missense_Mutation          SNP   \n",
       "\n",
       "                i_HGNC_LocusType  is_coding                       patient  \\\n",
       "23281  gene with protein product          1  TCGA-A1-A0SB-01A-11D-A142-09   \n",
       "64214  gene with protein product          1  TCGA-A1-A0SB-01A-11D-A142-09   \n",
       "26802  gene with protein product          1  TCGA-A1-A0SB-01A-11D-A142-09   \n",
       "1471   gene with protein product          1  TCGA-A1-A0SB-01A-11D-A142-09   \n",
       "12526  gene with protein product          1  TCGA-A1-A0SB-01A-11D-A142-09   \n",
       "\n",
       "      MA_Func_Impact  \n",
       "23281            NaN  \n",
       "64214            NaN  \n",
       "26802            NaN  \n",
       "1471            high  \n",
       "12526         medium  "
      ]
     },
     "execution_count": 10,
     "metadata": {},
     "output_type": "execute_result"
    }
   ],
   "source": [
    "data_SortPatient = mafToSort.sort_values(['patient','Variant_Classification', 'i_HGNC_LocusType'])\n",
    "data_SortPatient.head(5)"
   ]
  },
  {
   "cell_type": "code",
   "execution_count": 11,
   "metadata": {},
   "outputs": [],
   "source": [
    "# Guardo el archivo: \n",
    "# Con las columnas que quiero\n",
    "# Ordenado por: paciente, Variant Classification y locus type\n",
    "data_SortPatient.to_csv('maf_OrdenadoxPaciente.txt', sep='\\t', encoding='utf-8')"
   ]
  }
 ],
 "metadata": {
  "kernelspec": {
   "display_name": "Python 3",
   "language": "python",
   "name": "python3"
  },
  "language_info": {
   "codemirror_mode": {
    "name": "ipython",
    "version": 3
   },
   "file_extension": ".py",
   "mimetype": "text/x-python",
   "name": "python",
   "nbconvert_exporter": "python",
   "pygments_lexer": "ipython3",
   "version": "3.6.1"
  }
 },
 "nbformat": 4,
 "nbformat_minor": 2
}
