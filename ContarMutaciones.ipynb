{
 "cells": [
  {
   "cell_type": "code",
   "execution_count": 1,
   "metadata": {
    "collapsed": true
   },
   "outputs": [],
   "source": [
    "import pandas as pd\n",
    "import numpy as np\n",
    "import seaborn as sns\n",
    "sns.set()\n",
    "import matplotlib.pyplot as plt\n",
    "%matplotlib inline "
   ]
  },
  {
   "cell_type": "code",
   "execution_count": 2,
   "metadata": {},
   "outputs": [
    {
     "data": {
      "text/plain": [
       "76673"
      ]
     },
     "execution_count": 2,
     "metadata": {},
     "output_type": "execute_result"
    }
   ],
   "source": [
    "maf = 'maf_OrdenadoxPaciente.txt'\n",
    "data = pd.read_csv(maf, sep='\\t')\n",
    "len(data)"
   ]
  },
  {
   "cell_type": "code",
   "execution_count": 3,
   "metadata": {},
   "outputs": [
    {
     "data": {
      "text/html": [
       "<div>\n",
       "<style>\n",
       "    .dataframe thead tr:only-child th {\n",
       "        text-align: right;\n",
       "    }\n",
       "\n",
       "    .dataframe thead th {\n",
       "        text-align: left;\n",
       "    }\n",
       "\n",
       "    .dataframe tbody tr th {\n",
       "        vertical-align: top;\n",
       "    }\n",
       "</style>\n",
       "<table border=\"1\" class=\"dataframe\">\n",
       "  <thead>\n",
       "    <tr style=\"text-align: right;\">\n",
       "      <th></th>\n",
       "      <th>Unnamed: 0</th>\n",
       "      <th>Hugo_Symbol</th>\n",
       "      <th>Chromosome</th>\n",
       "      <th>Variant_Classification</th>\n",
       "      <th>Variant_Type</th>\n",
       "      <th>i_HGNC_LocusType</th>\n",
       "      <th>is_coding</th>\n",
       "      <th>patient</th>\n",
       "      <th>MA_Func_Impact</th>\n",
       "    </tr>\n",
       "  </thead>\n",
       "  <tbody>\n",
       "    <tr>\n",
       "      <th>0</th>\n",
       "      <td>23281</td>\n",
       "      <td>MSH3</td>\n",
       "      <td>5</td>\n",
       "      <td>Frame_Shift_Del</td>\n",
       "      <td>DEL</td>\n",
       "      <td>gene with protein product</td>\n",
       "      <td>1</td>\n",
       "      <td>TCGA-A1-A0SB-01A-11D-A142-09</td>\n",
       "      <td>NaN</td>\n",
       "    </tr>\n",
       "    <tr>\n",
       "      <th>1</th>\n",
       "      <td>64214</td>\n",
       "      <td>ZNF566</td>\n",
       "      <td>19</td>\n",
       "      <td>Frame_Shift_Del</td>\n",
       "      <td>DEL</td>\n",
       "      <td>gene with protein product</td>\n",
       "      <td>1</td>\n",
       "      <td>TCGA-A1-A0SB-01A-11D-A142-09</td>\n",
       "      <td>NaN</td>\n",
       "    </tr>\n",
       "    <tr>\n",
       "      <th>2</th>\n",
       "      <td>26802</td>\n",
       "      <td>MYB</td>\n",
       "      <td>6</td>\n",
       "      <td>Frame_Shift_Ins</td>\n",
       "      <td>INS</td>\n",
       "      <td>gene with protein product</td>\n",
       "      <td>1</td>\n",
       "      <td>TCGA-A1-A0SB-01A-11D-A142-09</td>\n",
       "      <td>NaN</td>\n",
       "    </tr>\n",
       "    <tr>\n",
       "      <th>3</th>\n",
       "      <td>1471</td>\n",
       "      <td>SLC6A9</td>\n",
       "      <td>1</td>\n",
       "      <td>Missense_Mutation</td>\n",
       "      <td>SNP</td>\n",
       "      <td>gene with protein product</td>\n",
       "      <td>1</td>\n",
       "      <td>TCGA-A1-A0SB-01A-11D-A142-09</td>\n",
       "      <td>high</td>\n",
       "    </tr>\n",
       "  </tbody>\n",
       "</table>\n",
       "</div>"
      ],
      "text/plain": [
       "   Unnamed: 0 Hugo_Symbol  Chromosome Variant_Classification Variant_Type  \\\n",
       "0       23281        MSH3           5        Frame_Shift_Del          DEL   \n",
       "1       64214      ZNF566          19        Frame_Shift_Del          DEL   \n",
       "2       26802         MYB           6        Frame_Shift_Ins          INS   \n",
       "3        1471      SLC6A9           1      Missense_Mutation          SNP   \n",
       "\n",
       "            i_HGNC_LocusType  is_coding                       patient  \\\n",
       "0  gene with protein product          1  TCGA-A1-A0SB-01A-11D-A142-09   \n",
       "1  gene with protein product          1  TCGA-A1-A0SB-01A-11D-A142-09   \n",
       "2  gene with protein product          1  TCGA-A1-A0SB-01A-11D-A142-09   \n",
       "3  gene with protein product          1  TCGA-A1-A0SB-01A-11D-A142-09   \n",
       "\n",
       "  MA_Func_Impact  \n",
       "0            NaN  \n",
       "1            NaN  \n",
       "2            NaN  \n",
       "3           high  "
      ]
     },
     "execution_count": 3,
     "metadata": {},
     "output_type": "execute_result"
    }
   ],
   "source": [
    "# cambiando MA_Func.Impact por MA_Func_Impact, porque el . no me deja completar!\n",
    "data.columns = ['Unnamed: 0', 'Hugo_Symbol', 'Chromosome',\n",
    "       'Variant_Classification', 'Variant_Type', 'i_HGNC_LocusType',\n",
    "       'is_coding', 'patient', 'MA_Func_Impact']\n",
    "data.head(4)"
   ]
  },
  {
   "cell_type": "code",
   "execution_count": 98,
   "metadata": {
    "collapsed": true
   },
   "outputs": [],
   "source": [
    "# ¿Qué clasificación hay de Mutation Assessor Functional Impact\n",
    "#data.MA_Func_Impact.drop_duplicates()"
   ]
  },
  {
   "cell_type": "code",
   "execution_count": 14,
   "metadata": {},
   "outputs": [
    {
     "data": {
      "text/plain": [
       "0                 Frame_Shift_Del\n",
       "2                 Frame_Shift_Ins\n",
       "3               Missense_Mutation\n",
       "12                         Silent\n",
       "17                   In_Frame_Del\n",
       "39                    Splice_Site\n",
       "40                            IGR\n",
       "56              Nonsense_Mutation\n",
       "130                       5'Flank\n",
       "215                         3'UTR\n",
       "216                         5'UTR\n",
       "348                           RNA\n",
       "406                        Intron\n",
       "1218                 In_Frame_Ins\n",
       "2278        De_novo_Start_InFrame\n",
       "5120             Nonstop_Mutation\n",
       "10111              Stop_Codon_Ins\n",
       "11364             Start_Codon_Ins\n",
       "15032    De_novo_Start_OutOfFrame\n",
       "18387             Start_Codon_Del\n",
       "31685              Stop_Codon_Del\n",
       "Name: Variant_Classification, dtype: object"
      ]
     },
     "execution_count": 14,
     "metadata": {},
     "output_type": "execute_result"
    }
   ],
   "source": [
    "data.Variant_Classification.drop_duplicates()"
   ]
  },
  {
   "cell_type": "markdown",
   "metadata": {},
   "source": [
    "### Tipos de mutaciones que vamos a contar: \n",
    "Se va a contar para cada tipo de mutación cuantas hay por cada paciente. \n",
    "\n",
    "#### Variant classification\n",
    "- Missense_Mutation\n",
    "- Silent\n",
    "- Nonsense_Mutation\n",
    "- Frame_Shift_Ins\n",
    "- In_Frame_Del\n",
    "- IGR\n",
    "- Frame_Shift_Del\n",
    "- Splice_Site\n",
    "- In_Frame_Ins\n",
    "- Intron\n",
    "- 3'UTR\n",
    "- 5'Flank\n",
    "- RNA\n",
    "- Nonstop_Mutation\n",
    "- 5'UTR\n",
    "- Stop_Codon_Ins\n",
    "- Stop_Codon_Del\n",
    "\n",
    "______________________________________________________________\n",
    "0                 Frame_Shift_Del\n",
    "2                 Frame_Shift_Ins\n",
    "3               Missense_Mutation\n",
    "12                         Silent\n",
    "17                   In_Frame_Del\n",
    "39                    Splice_Site\n",
    "40                            IGR\n",
    "56              Nonsense_Mutation\n",
    "130                       5'Flank\n",
    "215                         3'UTR\n",
    "216                         5'UTR\n",
    "348                           RNA\n",
    "406                        Intron\n",
    "1218                 In_Frame_Ins\n",
    "2278        De_novo_Start_InFrame\n",
    "5120             Nonstop_Mutation\n",
    "10111              Stop_Codon_Ins\n",
    "11364             Start_Codon_Ins\n",
    "15032    De_novo_Start_OutOfFrame\n",
    "18387             Start_Codon_Del\n",
    "31685              Stop_Codon_Del\n",
    "\n",
    "#### Locus Type\n",
    "- gene with protein product\n",
    "- NaN\n",
    "- complex locus constituent\n",
    "- protocadherin\n",
    "- readthrough\n",
    "- pseudogene\n",
    "______________________________________________________________________\n",
    "0        gene with protein product\n",
    "18       complex locus constituent\n",
    "130                            NaN\n",
    "490                  protocadherin\n",
    "789                     pseudogene\n",
    "790          endogenous retrovirus\n",
    "2495                       unknown\n",
    "4337                   readthrough\n",
    "23651         T cell receptor gene\n",
    "42668         RNA, long non-coding\n",
    "\n",
    "#### MutatorAssessor Functional Impact (MAFI)\n",
    "\n",
    "- NaN\n",
    "- low\n",
    "- medium\n",
    "- neutral\n",
    "- high"
   ]
  },
  {
   "cell_type": "code",
   "execution_count": 7,
   "metadata": {},
   "outputs": [
    {
     "data": {
      "text/plain": [
       "978"
      ]
     },
     "execution_count": 7,
     "metadata": {},
     "output_type": "execute_result"
    }
   ],
   "source": [
    "# Identificación de los pacientes en una lista: \n",
    "pId = data.patient.drop_duplicates()\n",
    "pId=pId.tolist()\n",
    "len(pId) # Hay 66 pacientes"
   ]
  },
  {
   "cell_type": "code",
   "execution_count": 9,
   "metadata": {},
   "outputs": [
    {
     "data": {
      "text/plain": [
       "978"
      ]
     },
     "execution_count": 9,
     "metadata": {},
     "output_type": "execute_result"
    }
   ],
   "source": [
    "# Agrupar los datos por paciente, para poder contar las mutaciones de cada uno\n",
    "p = data.groupby('patient')\n",
    "len(p.groups)\n",
    "#p1 = p.get_group(pId[0])\n",
    "#p1.MA_Func_Impact.count()\n"
   ]
  },
  {
   "cell_type": "code",
   "execution_count": 15,
   "metadata": {},
   "outputs": [
    {
     "name": "stdout",
     "output_type": "stream",
     "text": [
      "[15, 25, 24, 35, 31, 85, 189, 27, 99, 28, 49, 37, 26, 40, 107, 11, 77, 82, 53, 31, 103, 28, 44, 22, 18, 50, 27, 79, 34, 104, 33, 75, 38, 21, 53, 196, 15, 65, 69, 78, 26, 29, 23, 32, 30, 3, 79, 26, 4, 28, 40, 58, 13, 26, 201, 7, 23, 35, 49, 23, 126, 160, 15, 34, 32, 30, 1387, 108, 21, 18, 60, 40, 24, 45, 59, 13, 53, 187, 13, 69, 49, 38, 64, 20, 26, 20, 28, 35, 4, 12, 98, 82, 23, 54, 53, 3, 23, 9, 23, 75, 21, 44, 5, 29, 42, 40, 163, 111, 16, 11, 10, 62, 38, 72, 31, 110, 32, 27, 44, 23, 124, 37, 1, 91, 59, 30, 24, 18, 37, 33, 49, 97, 30, 1, 21, 35, 15, 77, 30, 24, 61, 33, 33, 68, 31, 36, 46, 83, 70, 124, 173, 24, 25, 30, 60, 40, 201, 54, 26, 54, 188, 30, 57, 70, 50, 46, 62, 134, 72, 29, 49, 38, 40, 89, 41, 49, 407, 37, 78, 23, 75, 22, 27, 63, 66, 23, 31, 29, 1, 108, 33, 51, 38, 26, 200, 24, 38, 159, 49, 47, 17, 30, 35, 24, 80, 98, 171, 117, 26, 97, 21, 99, 37, 29, 41, 44, 233, 120, 35, 90, 74, 95, 48, 21, 22, 77, 54, 1251, 36, 33, 31, 2979, 88, 43, 23, 28, 95, 18, 27, 4509, 95, 74, 19, 16, 15, 12, 46, 1, 39, 24, 26, 72, 19, 69, 44, 15, 21, 29, 31, 62, 121, 181, 73, 14, 30, 130, 28, 471, 56, 53, 60, 40, 28, 23, 5278, 34, 26, 68, 91, 73, 1137, 73, 47, 106, 38, 106, 40, 22, 81, 44, 169, 24, 59, 95, 75, 87, 137, 48, 44, 34, 28, 115, 24, 25, 30, 26, 15, 93, 29, 214, 23, 718, 97, 60, 45, 43, 88, 6, 51, 60, 75, 81, 50, 98, 21, 25, 93, 28, 78, 7, 100, 40, 27, 15, 12, 60, 32, 130, 33, 19, 914, 86, 13, 14, 32, 402, 29, 31, 18, 31, 20, 66, 41, 38, 66, 54, 46, 45, 27, 27, 65, 28, 39, 76, 270, 85, 44, 63, 53, 32, 88, 59, 22, 59, 25, 25, 17, 6, 29, 37, 50, 38, 28, 18, 38, 19, 13, 46, 121, 26, 41, 19, 31, 16, 16, 138, 23, 39, 20, 19, 22, 5, 26, 38, 63, 147, 8, 30, 54, 178, 298, 20, 12, 37, 28, 14, 34, 11, 4, 58, 26, 32, 21, 53, 50, 48, 21, 93, 100, 68, 46, 54, 42, 29, 42, 23, 126, 139, 31, 35, 63, 24, 54, 100, 57, 36, 16, 36, 31, 18, 14, 12, 41, 43, 21, 18, 27, 36, 30, 13, 39, 19, 59, 19, 30, 17, 25, 47, 18, 52, 38, 47, 112, 20, 45, 41, 32, 50, 37, 20, 62, 142, 51, 55, 48, 57, 34, 59, 59, 694, 13, 39, 38, 28, 32, 16, 29, 36, 28, 50, 38, 22, 130, 20, 55, 14, 31, 33, 82, 215, 67, 30, 14, 35, 17, 28, 24, 32, 29, 82, 40, 19, 38, 27, 25, 13, 5, 60, 258, 28, 34, 36, 50, 45, 12, 20, 33, 74, 16, 43, 25, 20, 15, 6, 17, 59, 38, 273, 31, 854, 21, 101, 34, 26, 21, 226, 30, 29, 38, 55, 50, 17, 18, 27, 24, 167, 83, 50, 1316, 29, 23, 59, 40, 37, 12, 31, 303, 76, 23, 24, 71, 92, 171, 46, 30, 15, 22, 16, 80, 10, 12, 43, 20, 43, 29, 64, 129, 70, 25, 11, 17, 4, 27, 22, 35, 105, 10, 27, 16, 27, 58, 36, 55, 71, 14, 21, 396, 29, 6, 32, 71, 59, 105, 70, 53, 23, 28, 151, 97, 145, 33, 15, 44, 42, 31, 46, 34, 52, 49, 21, 91, 46, 42, 46, 38, 32, 43, 36, 107, 49, 27, 288, 47, 24, 72, 50, 43, 668, 39, 18, 184, 117, 24, 22, 131, 149, 45, 63, 61, 86, 16, 61, 39, 26, 28, 113, 701, 158, 898, 22, 75, 71, 32, 40, 103, 18, 33, 64, 169, 98, 39, 163, 100, 20, 32, 12, 47, 36, 23, 25, 83, 26, 28, 27, 38, 24, 76, 909, 86, 49, 17, 692, 23, 19, 43, 24, 27, 83, 38, 57, 61, 186, 23, 49, 8, 51, 902, 107, 31, 22, 33, 52, 44, 24, 25, 22, 201, 20, 20, 29, 14, 58, 28, 52, 79, 20, 37, 344, 24, 25, 56, 30, 74, 22, 97, 30, 31, 15, 70, 78, 24, 33, 57, 43, 110, 20, 38, 53, 15, 81, 144, 38, 29, 28, 27, 21, 56, 30, 99, 23, 39, 30, 65, 32, 44, 39, 45, 42, 51, 38, 12, 30, 15, 9, 30, 29, 17, 15, 37, 60, 27, 18, 13, 20, 185, 13, 20, 18, 60, 26, 22, 77, 37, 64, 120, 143, 11, 43, 23, 70, 84, 137, 11, 47, 26, 47, 104, 24, 23, 28, 25, 46, 86, 106, 62, 31, 42, 16, 26, 83, 10, 24, 48, 24, 93, 34, 25, 50, 20, 29, 45, 23, 41, 125, 36, 77, 16, 31, 12, 39, 21, 29, 51, 17, 77, 90, 18, 59, 77, 18, 30, 15, 15, 18, 67, 66, 4, 60, 37, 57, 18, 26, 39, 15, 80, 33, 27, 77, 17, 23, 307, 19, 27, 25, 400, 41, 87, 21, 60, 47, 23, 1, 12, 56, 17, 20, 7, 37, 33, 131, 108, 68, 29, 6, 43, 45, 27, 20, 19, 85, 122, 53, 99, 126, 381, 28, 94, 18, 42, 30, 109, 26, 22, 40, 18, 20, 90, 77, 51, 5, 77, 17, 22, 21, 27, 68, 11, 82, 33, 6, 63, 37, 69, 24, 23, 36, 72, 74, 14, 27, 37, 52, 31, 57, 24, 12, 147, 27, 10, 104, 36, 22, 34, 51, 28, 109, 52, 376]\n"
     ]
    }
   ],
   "source": [
    "# Conteo de mutaciones totales, para cada paciente:\n",
    "mut_tot = []\n",
    "for i in range(0,len(pId)):\n",
    "    #print(len(pId))\n",
    "    q = p.get_group(pId[i])\n",
    "    mut_tot.append(len(q))\n",
    "    #print(q)\n",
    "print(mut_tot)\n",
    "\n",
    "#print('suma total: ', sum(mut_tot))"
   ]
  },
  {
   "cell_type": "code",
   "execution_count": 16,
   "metadata": {},
   "outputs": [
    {
     "data": {
      "text/plain": [
       "[<matplotlib.lines.Line2D at 0x1b93eb2ff98>]"
      ]
     },
     "execution_count": 16,
     "metadata": {},
     "output_type": "execute_result"
    },
    {
     "data": {
      "image/png": "[encoded data removed]",
      "text/plain": [
       "<matplotlib.figure.Figure at 0x1b93d6316a0>"
      ]
     },
     "metadata": {},
     "output_type": "display_data"
    }
   ],
   "source": [
    "sns.plt.plot(mut_tot)"
   ]
  },
  {
   "cell_type": "code",
   "execution_count": 102,
   "metadata": {
    "collapsed": true
   },
   "outputs": [],
   "source": [
    "# Conteo de mutaciones por Variant_classification: \n",
    "\n",
    "missense = []\n",
    "silent = []\n",
    "nonsense = []\n",
    "fs_ins = []\n",
    "if_del =[]\n",
    "igr = []\n",
    "fs_del =[]\n",
    "splice_site =[]\n",
    "if_ins =[]\n",
    "intron =[]\n",
    "utr3 =[]\n",
    "flank5=[]\n",
    "rna = []\n",
    "nonstop =[]\n",
    "utr5 =[]\n",
    "stop_ins =[]\n",
    "stop_del =[]\n",
    "\n",
    "ms = 0\n",
    "s = 0\n",
    "nons = 0\n",
    "fsi =0\n",
    "ifd = 0\n",
    "ig = 0\n",
    "fsd = 0\n",
    "ss = 0\n",
    "ifi = 0\n",
    "intr = 0\n",
    "u3 = 0\n",
    "f5 = 0\n",
    "arn = 0\n",
    "nstop = 0\n",
    "u5 = 0\n",
    "sci = 0\n",
    "scd = 0\n",
    "\n",
    "for i in range(0, len(pId)):\n",
    "    #print(pId[i])\n",
    "    q = p.get_group(pId[i])\n",
    "    #print(len(q))\n",
    "    for j in range(0, len(q)):\n",
    "        #print(q.Variant_Classification.iloc[j])\n",
    "        if q.Variant_Classification.iloc[j] == 'Missense_Mutation':\n",
    "            ms = ms + 1\n",
    "        if q.Variant_Classification.iloc[j] == 'Silent':\n",
    "            s = s + 1\n",
    "        if q.Variant_Classification.iloc[j] == 'Nonsense_Mutation':\n",
    "            nons = nons + 1\n",
    "        if q.Variant_Classification.iloc[j] == 'Frame_Shift_Ins':\n",
    "            fsi = fsi + 1\n",
    "        if q.Variant_Classification.iloc[j] == 'In_Frame_Del':\n",
    "            ifd = ifd + 1\n",
    "        if q.Variant_Classification.iloc[j] == 'IGR':\n",
    "            ig = ig + 1\n",
    "        if q.Variant_Classification.iloc[j] == 'Frame_Shift_Del':\n",
    "            fsd = fsd + 1\n",
    "        if q.Variant_Classification.iloc[j] == 'Splice_Site':\n",
    "            ss = ss + 1\n",
    "        if q.Variant_Classification.iloc[j] == 'In_Frame_Ins':\n",
    "            ifi = ifi + 1\n",
    "        if q.Variant_Classification.iloc[j] == 'Intron':\n",
    "            intr = intr + 1\n",
    "        if q.Variant_Classification.iloc[j] == '3\\'UTR':\n",
    "            u3 = u3 + 1\n",
    "        if q.Variant_Classification.iloc[j] == '5\\'Flank':\n",
    "            f5 = f5 + 1\n",
    "        if q.Variant_Classification.iloc[j] == 'RNA':\n",
    "            arn = arn + 1\n",
    "        if q.Variant_Classification.iloc[j] == 'Nonstop_Mutation':\n",
    "            nstop = nstop + 1\n",
    "        if q.Variant_Classification.iloc[j] == '5\\'UTR':\n",
    "            u5 = u5 + 1\n",
    "        if q.Variant_Classification.iloc[j] == 'Stop_Codon_Ins':\n",
    "            sci = sci + 1\n",
    "        if q.Variant_Classification.iloc[j] == 'Stop_Codon_Del':\n",
    "            scd = scd + 1        \n",
    "    missense.append(ms)\n",
    "    silent.append(s)\n",
    "    nonsense.append(nons)\n",
    "    fs_ins.append(fsi)\n",
    "    if_del.append(ifd)\n",
    "    igr.append(ig)\n",
    "    fs_del.append(fsd)\n",
    "    splice_site.append(ss)\n",
    "    if_ins.append(ifi)\n",
    "    intron.append(intr)\n",
    "    utr3.append(u3)\n",
    "    flank5.append(f5)\n",
    "    rna.append(arn)\n",
    "    nonstop.append(nstop)\n",
    "    utr5.append(u5)\n",
    "    stop_ins.append(sci)\n",
    "    stop_del.append(scd)\n",
    "    ms = 0\n",
    "    s = 0\n",
    "    nons = 0\n",
    "    fsi =0\n",
    "    ifd = 0\n",
    "    ig = 0\n",
    "    fsd = 0\n",
    "    ss = 0\n",
    "    ifi = 0\n",
    "    intr = 0\n",
    "    u3 = 0\n",
    "    f5 = 0\n",
    "    arn = 0\n",
    "    nstop = 0\n",
    "    u5 = 0\n",
    "    sci = 0\n",
    "    scd = 0\n",
    "#print('missense', missense, 'silent', silent, 'nonsense', nonsense, 'fsi', fs_ins, 'ifd', if_del, 'igr', igr, 'fsd', fs_del,\n",
    " #    'splice site', splice_site, 'if_ins', if_ins, 'intron', intron, 'utr3', utr3, 'flank 5', flank5, \n",
    "  #   'rna', rna, 'nonstop', nonstop, 'utr5', utr5, 'stop ins', stop_ins, 'stop_del', stop_del, i)\n"
   ]
  },
  {
   "cell_type": "code",
   "execution_count": 103,
   "metadata": {
    "collapsed": true
   },
   "outputs": [],
   "source": [
    "# Conteo de mutaciones por locus type:\n",
    "\n",
    "g_prot_prod = []\n",
    "cadherin = []\n",
    "read = []\n",
    "pgene = []\n",
    "nan_lt = []\n",
    "cplx = []\n",
    "\n",
    "pp = 0\n",
    "nn = 0\n",
    "clx = 0\n",
    "cad = 0\n",
    "r = 0\n",
    "pg = 0\n",
    "\n",
    "for i in range(0, len(pId)):\n",
    "    #print(pId[i])\n",
    "    q = p.get_group(pId[i])\n",
    "    #print(len(q))\n",
    "    for j in range(0, len(q)):\n",
    "        #print(q.Variant_Classification.iloc[j])\n",
    "        if q.i_HGNC_LocusType.iloc[j] == 'gene with protein product':\n",
    "            pp = pp + 1\n",
    "        if q.i_HGNC_LocusType.iloc[j] == 'complex locus constituent':\n",
    "            clx = clx + 1\n",
    "        if q.i_HGNC_LocusType.iloc[j] == 'protocadherin':\n",
    "            cad = cad + 1\n",
    "        if q.i_HGNC_LocusType.iloc[j] == 'readthrough':\n",
    "            r = r + 1\n",
    "        if q.i_HGNC_LocusType.iloc[j] == 'pseudogene':\n",
    "            pg = pg + 1\n",
    "        nn = len(q)- (pp+clx+cad+r+pg)\n",
    "    g_prot_prod.append(pp)\n",
    "    cadherin.append(cad)\n",
    "    read.append(r)\n",
    "    pgene.append(pg)\n",
    "    nan_lt.append(nn)\n",
    "    cplx.append(clx)\n",
    "    pp = 0\n",
    "    nn = 0\n",
    "    clx = 0\n",
    "    cad = 0\n",
    "    r = 0\n",
    "    pg = 0\n",
    "\n",
    "#0       gene with protein product\n",
    "#70                            NaN\n",
    "#571     complex locus constituent\n",
    "#1644                protocadherin\n",
    "#3543                  readthrough\n",
    "#5118                   pseudogene\n",
    "\n",
    "#print('gpp', g_prot_prod, 'cad', cadherin, 'r', read,'pgene', pgene,'nan', nan_lt,'complex', cplx)"
   ]
  },
  {
   "cell_type": "code",
   "execution_count": 104,
   "metadata": {},
   "outputs": [
    {
     "data": {
      "text/plain": [
       "[<matplotlib.lines.Line2D at 0x150da17e7b8>]"
      ]
     },
     "execution_count": 104,
     "metadata": {},
     "output_type": "execute_result"
    },
    {
     "data": {
      "image/png": "[encoded data removed]",
      "text/plain": [
       "<matplotlib.figure.Figure at 0x150da0cb7f0>"
      ]
     },
     "metadata": {},
     "output_type": "display_data"
    }
   ],
   "source": [
    "plt.plot(mut_tot)\n",
    "#plt.plot(g_prot_prod)"
   ]
  },
  {
   "cell_type": "code",
   "execution_count": 12,
   "metadata": {
    "scrolled": true
   },
   "outputs": [
    {
     "name": "stdout",
     "output_type": "stream",
     "text": [
      "nn [6, 10, 12, 11, 13, 35, 85, 10, 46, 17, 18, 20, 15, 17, 43, 9, 35, 32, 19, 17, 47, 13, 24, 14, 11, 26, 16, 63, 18, 32, 16, 30, 23, 5, 16, 78, 10, 30, 48, 30, 15, 16, 9, 15, 15, 1, 29, 13, 3, 14, 15, 23, 3, 16, 107, 4, 13, 20, 21, 9, 52, 66, 9, 23, 19, 17, 513, 40, 14, 7, 38, 21, 15, 17, 25, 8, 13, 77, 8, 33, 22, 16, 35, 9, 14, 8, 18, 18, 1, 5, 35, 38, 7, 29, 25, 3, 13, 7, 8, 23, 11, 20, 3, 10, 19, 16, 64, 44, 9, 4, 6, 16, 17, 34, 19, 55, 19, 10, 22, 12, 42, 18, 0, 43, 26, 7, 10, 6, 16, 16, 23, 45, 10, 0, 12, 16, 7, 38, 19, 12, 32, 7, 15, 29, 11, 14, 23, 31, 30, 65, 68, 11, 7, 11, 30, 27, 84, 27, 9, 27, 86, 15, 27, 28, 15, 21, 30, 53, 35, 15, 27, 16, 28, 35, 14, 26, 189, 24, 33, 12, 28, 13, 9, 26, 27, 14, 19, 18, 1, 36, 15, 32, 18, 9, 74, 9, 16, 71, 28, 28, 10, 16, 17, 15, 40, 50, 67, 50, 13, 50, 9, 41, 22, 18, 25, 22, 84, 48, 19, 33, 38, 36, 21, 8, 15, 43, 27, 600, 21, 19, 24, 1215, 35, 14, 13, 15, 41, 9, 14, 1764, 39, 34, 7, 8, 7, 3, 19, 1, 18, 10, 16, 27, 3, 28, 19, 7, 11, 12, 13, 29, 44, 73, 38, 3, 17, 58, 9, 184, 29, 20, 24, 27, 14, 10, 2039, 16, 15, 40, 38, 31, 611, 33, 19, 39, 24, 33, 19, 12, 35, 27, 75, 17, 41, 51, 32, 40, 83, 18, 15, 15, 16, 41, 9, 12, 9, 9, 9, 39, 13, 84, 12, 274, 41, 26, 24, 21, 41, 4, 15, 30, 41, 32, 30, 34, 11, 14, 37, 16, 42, 3, 46, 15, 15, 7, 7, 24, 17, 45, 20, 7, 407, 33, 9, 5, 12, 185, 11, 13, 6, 25, 10, 29, 21, 19, 27, 32, 27, 13, 14, 17, 24, 14, 15, 39, 106, 57, 27, 22, 26, 16, 45, 25, 7, 25, 9, 12, 9, 3, 7, 16, 24, 15, 12, 8, 13, 9, 3, 20, 55, 7, 18, 8, 12, 5, 7, 63, 11, 19, 10, 8, 8, 1, 17, 11, 25, 47, 3, 14, 23, 67, 126, 7, 6, 17, 7, 5, 16, 3, 1, 26, 14, 19, 8, 18, 22, 20, 12, 33, 48, 29, 35, 26, 23, 12, 22, 7, 47, 73, 18, 26, 33, 14, 29, 42, 23, 13, 11, 18, 16, 5, 6, 6, 22, 21, 13, 9, 13, 19, 14, 6, 19, 9, 26, 11, 16, 12, 15, 24, 8, 19, 21, 20, 38, 10, 23, 25, 21, 16, 16, 11, 27, 62, 29, 25, 22, 34, 14, 18, 25, 306, 5, 20, 14, 10, 16, 5, 16, 17, 20, 23, 29, 8, 46, 9, 22, 9, 12, 17, 40, 82, 19, 13, 8, 18, 8, 13, 8, 12, 10, 33, 12, 9, 20, 13, 12, 6, 2, 17, 118, 15, 18, 19, 24, 28, 8, 7, 17, 31, 6, 24, 8, 12, 6, 2, 11, 34, 20, 157, 11, 410, 8, 53, 23, 10, 13, 92, 19, 10, 23, 28, 24, 8, 9, 8, 7, 75, 36, 23, 654, 9, 8, 22, 21, 17, 6, 13, 132, 33, 10, 9, 26, 51, 62, 20, 14, 4, 9, 5, 25, 6, 2, 21, 9, 20, 11, 38, 53, 24, 10, 3, 8, 3, 15, 9, 12, 42, 2, 9, 6, 10, 31, 17, 27, 30, 5, 11, 163, 11, 2, 11, 31, 20, 52, 27, 24, 14, 7, 62, 37, 50, 16, 6, 19, 17, 14, 17, 18, 24, 20, 10, 37, 17, 18, 23, 15, 16, 25, 16, 45, 18, 12, 102, 28, 13, 27, 17, 17, 269, 12, 9, 78, 53, 6, 7, 37, 62, 20, 26, 16, 39, 10, 32, 13, 11, 13, 38, 291, 65, 348, 5, 32, 25, 10, 16, 42, 7, 21, 26, 79, 36, 22, 81, 37, 8, 15, 9, 27, 13, 5, 14, 35, 15, 11, 9, 15, 11, 34, 381, 23, 22, 10, 327, 7, 10, 18, 15, 12, 38, 17, 24, 24, 99, 9, 17, 0, 18, 330, 29, 11, 13, 14, 23, 16, 14, 11, 9, 75, 5, 15, 13, 9, 29, 16, 21, 45, 11, 14, 141, 10, 9, 25, 8, 31, 8, 33, 11, 14, 6, 22, 36, 12, 15, 27, 17, 41, 8, 17, 26, 5, 23, 58, 11, 15, 9, 8, 5, 28, 13, 41, 10, 15, 8, 25, 14, 31, 16, 20, 26, 22, 18, 7, 11, 8, 3, 17, 15, 4, 4, 16, 21, 14, 9, 5, 9, 71, 4, 13, 8, 16, 8, 10, 32, 17, 25, 52, 55, 3, 25, 11, 28, 36, 70, 5, 17, 17, 23, 48, 9, 15, 11, 9, 18, 38, 75, 22, 9, 14, 8, 16, 74, 4, 10, 23, 9, 41, 17, 15, 20, 10, 14, 20, 9, 19, 48, 14, 33, 10, 17, 5, 13, 13, 10, 18, 8, 29, 42, 4, 27, 31, 12, 11, 5, 7, 5, 34, 32, 2, 17, 20, 20, 9, 15, 20, 6, 34, 19, 13, 41, 7, 10, 151, 9, 10, 8, 159, 21, 40, 15, 26, 18, 10, 1, 6, 20, 9, 7, 5, 19, 15, 54, 48, 25, 12, 3, 19, 12, 16, 9, 8, 32, 51, 28, 42, 56, 154, 14, 47, 11, 15, 14, 39, 11, 12, 17, 3, 7, 39, 37, 24, 2, 31, 9, 11, 6, 14, 28, 4, 34, 15, 3, 29, 20, 30, 13, 5, 14, 26, 30, 6, 15, 11, 19, 21, 26, 9, 5, 51, 11, 3, 44, 18, 10, 20, 22, 13, 54, 23, 155] low [2, 4, 2, 8, 8, 21, 48, 5, 14, 4, 16, 6, 3, 8, 23, 0, 7, 13, 11, 7, 16, 7, 8, 5, 1, 6, 4, 8, 4, 29, 4, 16, 7, 6, 11, 43, 0, 12, 11, 21, 3, 7, 5, 7, 5, 0, 19, 2, 0, 4, 5, 12, 3, 4, 34, 2, 1, 5, 12, 2, 18, 33, 1, 3, 2, 4, 273, 16, 4, 4, 6, 8, 4, 14, 11, 2, 13, 44, 2, 11, 8, 6, 12, 3, 1, 6, 6, 3, 1, 2, 21, 13, 5, 12, 13, 0, 4, 0, 2, 15, 5, 4, 0, 6, 11, 11, 36, 24, 3, 3, 1, 13, 7, 16, 3, 17, 2, 10, 12, 6, 31, 7, 0, 10, 13, 7, 5, 4, 4, 5, 7, 14, 7, 0, 4, 2, 3, 13, 5, 3, 9, 6, 7, 14, 8, 8, 9, 16, 15, 20, 32, 7, 7, 7, 8, 9, 38, 12, 4, 9, 37, 5, 12, 16, 16, 6, 8, 28, 14, 8, 7, 10, 2, 16, 11, 10, 62, 7, 17, 3, 14, 4, 9, 8, 10, 3, 6, 7, 0, 23, 10, 6, 4, 5, 52, 5, 11, 35, 10, 5, 3, 5, 9, 4, 19, 18, 36, 28, 5, 13, 4, 22, 3, 3, 4, 10, 53, 26, 4, 21, 16, 24, 8, 3, 3, 12, 13, 241, 3, 7, 1, 525, 20, 10, 3, 4, 22, 4, 6, 1073, 25, 18, 4, 1, 3, 4, 10, 0, 5, 8, 4, 10, 6, 18, 7, 2, 5, 4, 7, 11, 29, 35, 15, 5, 4, 28, 5, 130, 9, 12, 11, 2, 6, 9, 1179, 9, 2, 12, 17, 15, 176, 10, 10, 25, 4, 32, 7, 3, 18, 6, 28, 3, 4, 20, 11, 16, 22, 6, 13, 7, 4, 27, 4, 5, 7, 9, 4, 22, 3, 41, 6, 181, 25, 10, 5, 6, 15, 1, 13, 10, 11, 18, 10, 16, 4, 3, 18, 4, 10, 3, 18, 8, 3, 0, 1, 13, 3, 40, 5, 4, 153, 8, 2, 4, 5, 73, 6, 12, 6, 3, 4, 16, 8, 3, 14, 6, 4, 10, 1, 4, 8, 5, 4, 14, 61, 8, 5, 10, 11, 6, 17, 13, 9, 13, 9, 2, 4, 2, 7, 11, 10, 9, 6, 3, 8, 4, 5, 7, 21, 4, 9, 5, 10, 4, 3, 28, 4, 3, 3, 5, 2, 1, 1, 8, 15, 46, 1, 6, 11, 39, 62, 4, 2, 6, 11, 6, 8, 4, 1, 12, 3, 7, 6, 10, 9, 6, 3, 19, 22, 12, 6, 11, 5, 8, 7, 3, 31, 22, 7, 4, 15, 3, 8, 19, 9, 9, 1, 5, 2, 3, 5, 2, 7, 8, 3, 3, 4, 7, 3, 4, 4, 3, 7, 2, 4, 3, 4, 8, 2, 9, 7, 11, 24, 4, 10, 7, 2, 9, 5, 3, 9, 28, 6, 11, 10, 7, 8, 17, 16, 144, 3, 3, 12, 5, 6, 2, 5, 8, 3, 11, 2, 5, 29, 4, 12, 3, 7, 7, 14, 39, 19, 4, 2, 4, 4, 3, 7, 7, 4, 15, 12, 3, 8, 4, 5, 5, 2, 16, 48, 6, 5, 11, 10, 9, 2, 4, 8, 12, 5, 4, 4, 3, 3, 1, 3, 7, 11, 42, 7, 166, 7, 16, 4, 7, 6, 47, 2, 7, 4, 11, 7, 2, 3, 5, 4, 40, 13, 9, 219, 8, 5, 13, 4, 11, 2, 6, 71, 12, 4, 3, 22, 10, 41, 7, 5, 4, 6, 2, 21, 1, 3, 6, 0, 8, 1, 8, 28, 10, 4, 4, 3, 1, 2, 7, 6, 24, 4, 4, 2, 8, 10, 6, 12, 19, 1, 1, 96, 7, 2, 9, 17, 19, 16, 10, 7, 5, 7, 23, 23, 31, 5, 2, 9, 14, 4, 11, 5, 4, 11, 4, 23, 11, 9, 11, 7, 4, 4, 5, 22, 20, 5, 60, 9, 2, 20, 10, 12, 164, 9, 4, 50, 22, 7, 3, 34, 33, 6, 13, 14, 14, 1, 10, 5, 3, 3, 29, 146, 35, 219, 6, 16, 19, 7, 9, 17, 2, 3, 13, 23, 30, 5, 31, 30, 3, 7, 1, 7, 5, 8, 3, 12, 5, 8, 12, 7, 5, 9, 165, 20, 7, 4, 128, 4, 5, 9, 4, 9, 15, 6, 8, 10, 27, 6, 15, 3, 14, 202, 30, 5, 0, 6, 8, 16, 3, 3, 6, 42, 6, 1, 8, 2, 11, 8, 15, 6, 1, 8, 71, 5, 9, 11, 6, 13, 4, 30, 8, 6, 5, 16, 19, 5, 7, 15, 13, 21, 3, 5, 12, 4, 13, 32, 8, 3, 5, 5, 3, 8, 6, 23, 2, 6, 4, 24, 5, 7, 9, 6, 5, 9, 5, 1, 5, 2, 2, 7, 2, 5, 2, 7, 14, 3, 5, 3, 2, 44, 3, 3, 3, 11, 6, 2, 18, 4, 11, 22, 31, 1, 7, 6, 12, 13, 28, 2, 7, 6, 12, 17, 4, 3, 4, 5, 12, 16, 8, 14, 9, 12, 4, 6, 2, 3, 3, 8, 4, 21, 7, 3, 11, 6, 7, 8, 4, 11, 20, 4, 13, 1, 2, 1, 11, 1, 7, 12, 6, 20, 18, 2, 10, 17, 3, 9, 2, 5, 3, 10, 15, 1, 16, 4, 9, 4, 3, 7, 4, 21, 4, 7, 12, 4, 4, 58, 5, 4, 8, 92, 4, 16, 2, 16, 9, 6, 0, 2, 10, 2, 2, 1, 6, 10, 30, 16, 18, 2, 1, 7, 11, 5, 6, 0, 21, 30, 6, 19, 19, 90, 5, 20, 1, 9, 9, 23, 4, 5, 10, 6, 6, 20, 17, 9, 0, 19, 3, 7, 5, 5, 17, 2, 16, 10, 2, 12, 3, 9, 3, 6, 11, 11, 20, 3, 5, 11, 11, 4, 10, 2, 4, 30, 5, 1, 16, 6, 3, 7, 13, 7, 24, 11, 95] neutral [1, 3, 3, 9, 2, 14, 20, 7, 23, 2, 5, 3, 3, 6, 17, 1, 13, 15, 7, 2, 16, 3, 5, 1, 3, 5, 1, 1, 4, 24, 4, 14, 3, 5, 14, 31, 1, 12, 7, 13, 2, 2, 4, 4, 2, 1, 11, 7, 0, 2, 5, 7, 0, 1, 22, 0, 1, 3, 5, 6, 23, 26, 1, 1, 6, 4, 213, 18, 2, 2, 4, 5, 1, 4, 8, 2, 12, 22, 2, 7, 6, 4, 6, 4, 9, 3, 1, 7, 1, 1, 16, 7, 2, 4, 6, 0, 1, 1, 3, 14, 1, 7, 0, 5, 5, 7, 30, 15, 1, 3, 1, 8, 6, 8, 1, 11, 3, 4, 3, 1, 24, 6, 0, 16, 8, 6, 4, 2, 4, 3, 8, 17, 5, 0, 3, 3, 4, 13, 3, 3, 2, 11, 5, 8, 5, 8, 8, 13, 8, 17, 36, 1, 4, 5, 13, 1, 32, 6, 8, 8, 25, 3, 5, 8, 9, 5, 9, 19, 10, 2, 8, 4, 2, 16, 7, 3, 60, 2, 11, 1, 14, 3, 2, 9, 13, 1, 2, 3, 0, 20, 2, 6, 3, 1, 22, 4, 5, 17, 5, 7, 1, 4, 3, 0, 9, 10, 30, 15, 4, 13, 3, 12, 4, 3, 7, 2, 39, 19, 5, 11, 10, 13, 6, 2, 2, 6, 6, 131, 5, 4, 0, 395, 18, 7, 2, 3, 15, 3, 5, 620, 14, 7, 3, 4, 2, 4, 7, 0, 7, 0, 4, 15, 7, 7, 5, 4, 0, 2, 5, 13, 19, 31, 7, 3, 6, 14, 4, 49, 7, 7, 7, 5, 3, 3, 704, 5, 3, 10, 15, 5, 123, 10, 7, 18, 3, 13, 4, 2, 12, 3, 28, 1, 3, 7, 11, 12, 13, 14, 5, 6, 3, 20, 4, 4, 3, 4, 1, 11, 3, 30, 1, 101, 12, 7, 6, 4, 11, 1, 10, 14, 10, 9, 7, 18, 2, 3, 18, 4, 10, 0, 6, 7, 3, 3, 0, 9, 4, 22, 2, 3, 130, 17, 1, 2, 8, 88, 1, 3, 1, 0, 1, 9, 5, 8, 10, 9, 6, 5, 6, 3, 16, 4, 12, 4, 36, 7, 5, 13, 5, 3, 13, 8, 1, 14, 1, 1, 2, 0, 6, 3, 7, 3, 3, 4, 7, 1, 2, 6, 18, 6, 4, 2, 3, 5, 1, 15, 3, 5, 4, 2, 4, 0, 3, 6, 9, 18, 1, 4, 4, 25, 28, 3, 2, 3, 6, 0, 5, 0, 1, 12, 3, 1, 3, 3, 8, 5, 1, 22, 10, 12, 1, 5, 8, 4, 6, 7, 23, 22, 3, 2, 6, 5, 8, 9, 15, 4, 2, 10, 6, 4, 2, 2, 6, 6, 2, 1, 3, 5, 4, 1, 9, 2, 9, 1, 4, 1, 3, 6, 1, 11, 1, 5, 19, 1, 3, 5, 3, 10, 6, 3, 10, 16, 8, 8, 5, 8, 8, 8, 8, 87, 1, 4, 7, 5, 6, 3, 1, 7, 0, 7, 1, 6, 23, 3, 7, 0, 6, 2, 4, 26, 11, 8, 2, 6, 3, 3, 5, 7, 6, 7, 5, 4, 5, 2, 3, 0, 0, 8, 34, 3, 5, 1, 4, 1, 1, 4, 4, 10, 3, 6, 6, 2, 1, 2, 1, 10, 3, 27, 8, 125, 2, 14, 3, 2, 1, 29, 2, 3, 5, 2, 3, 2, 1, 4, 5, 14, 9, 4, 168, 5, 6, 10, 4, 1, 1, 7, 47, 12, 2, 5, 9, 10, 28, 10, 3, 1, 4, 3, 10, 0, 6, 9, 6, 4, 7, 4, 18, 10, 3, 1, 2, 0, 5, 3, 5, 9, 1, 5, 3, 5, 5, 4, 6, 10, 2, 2, 54, 8, 1, 6, 10, 6, 17, 12, 7, 2, 2, 25, 14, 23, 5, 0, 4, 2, 10, 6, 7, 11, 7, 4, 8, 8, 7, 6, 6, 4, 5, 5, 12, 4, 3, 48, 5, 4, 9, 9, 9, 83, 9, 4, 22, 15, 6, 3, 16, 26, 8, 12, 9, 18, 3, 5, 9, 2, 2, 22, 98, 18, 130, 6, 10, 10, 5, 3, 18, 4, 2, 12, 24, 14, 2, 15, 8, 1, 4, 1, 4, 5, 2, 3, 11, 3, 3, 3, 9, 1, 12, 133, 19, 8, 0, 90, 5, 2, 5, 0, 4, 15, 3, 7, 14, 17, 1, 4, 2, 10, 141, 13, 6, 6, 6, 8, 6, 3, 4, 3, 20, 1, 2, 5, 0, 12, 1, 7, 8, 2, 7, 58, 4, 2, 8, 6, 9, 1, 19, 2, 8, 3, 6, 13, 2, 5, 7, 6, 17, 7, 8, 5, 1, 14, 20, 6, 5, 4, 5, 3, 9, 3, 11, 2, 7, 7, 8, 5, 3, 2, 11, 1, 8, 6, 0, 4, 1, 1, 2, 6, 2, 5, 5, 8, 3, 1, 2, 4, 37, 1, 3, 4, 16, 2, 1, 12, 2, 10, 19, 24, 3, 2, 4, 9, 16, 12, 2, 9, 2, 5, 10, 4, 1, 10, 6, 5, 10, 10, 12, 4, 5, 0, 3, 3, 2, 5, 9, 4, 7, 1, 3, 8, 1, 1, 7, 3, 5, 16, 4, 20, 1, 2, 3, 3, 4, 4, 10, 1, 10, 8, 5, 8, 17, 2, 4, 4, 1, 3, 10, 5, 0, 14, 7, 13, 3, 4, 4, 1, 7, 5, 4, 4, 3, 5, 41, 0, 9, 5, 47, 8, 12, 2, 4, 7, 4, 0, 2, 8, 2, 6, 0, 5, 0, 14, 16, 8, 3, 2, 6, 5, 2, 3, 1, 14, 16, 10, 14, 26, 47, 4, 10, 3, 4, 3, 20, 3, 3, 5, 3, 2, 10, 10, 11, 0, 13, 4, 1, 2, 4, 7, 2, 11, 4, 1, 8, 9, 10, 5, 6, 3, 7, 12, 2, 2, 4, 3, 2, 9, 8, 0, 22, 4, 5, 17, 6, 2, 2, 2, 5, 16, 6, 50] medium [5, 8, 7, 5, 8, 11, 31, 4, 14, 5, 8, 6, 3, 6, 20, 1, 20, 17, 14, 4, 20, 4, 6, 2, 2, 13, 4, 7, 8, 16, 6, 13, 4, 4, 10, 39, 3, 8, 3, 12, 5, 4, 4, 4, 7, 1, 17, 4, 0, 5, 9, 10, 6, 5, 35, 1, 7, 5, 11, 5, 29, 26, 4, 6, 4, 4, 309, 28, 1, 5, 10, 5, 4, 9, 14, 1, 13, 39, 1, 14, 12, 10, 9, 4, 2, 3, 2, 6, 1, 3, 20, 17, 7, 7, 9, 0, 4, 1, 7, 20, 3, 11, 2, 7, 5, 5, 29, 26, 2, 0, 1, 20, 7, 11, 7, 20, 8, 3, 6, 3, 25, 5, 1, 20, 10, 9, 3, 5, 12, 8, 8, 19, 8, 1, 0, 11, 1, 12, 3, 3, 13, 7, 6, 16, 7, 5, 5, 17, 15, 21, 31, 3, 5, 7, 6, 3, 45, 8, 4, 9, 33, 7, 12, 16, 9, 13, 13, 29, 10, 4, 5, 7, 8, 17, 8, 9, 84, 3, 16, 5, 14, 2, 7, 15, 14, 5, 3, 1, 0, 20, 6, 6, 12, 11, 42, 5, 3, 33, 5, 6, 3, 5, 5, 5, 10, 16, 32, 20, 3, 16, 4, 22, 8, 5, 5, 8, 44, 23, 4, 21, 10, 18, 13, 7, 1, 13, 5, 234, 5, 3, 6, 657, 15, 10, 4, 3, 13, 2, 2, 931, 16, 14, 5, 3, 3, 1, 9, 0, 8, 5, 2, 17, 3, 15, 11, 2, 5, 11, 6, 8, 23, 35, 12, 3, 2, 27, 8, 93, 11, 14, 15, 5, 4, 0, 1182, 3, 5, 4, 16, 18, 198, 19, 6, 21, 7, 22, 9, 5, 14, 6, 29, 2, 8, 15, 18, 18, 13, 8, 9, 5, 5, 26, 7, 2, 9, 4, 0, 18, 9, 50, 2, 141, 17, 11, 9, 10, 19, 0, 9, 4, 12, 20, 2, 24, 3, 3, 17, 3, 15, 1, 26, 9, 5, 5, 2, 12, 5, 16, 6, 4, 196, 24, 1, 2, 5, 50, 8, 3, 4, 3, 4, 11, 7, 7, 14, 6, 6, 16, 4, 2, 14, 3, 5, 17, 57, 11, 5, 16, 9, 6, 12, 12, 5, 4, 6, 8, 2, 1, 8, 6, 8, 11, 6, 3, 10, 4, 3, 10, 25, 8, 9, 4, 5, 2, 4, 29, 4, 9, 3, 3, 7, 3, 4, 9, 11, 34, 3, 4, 16, 41, 67, 5, 1, 11, 2, 3, 5, 4, 1, 8, 2, 4, 3, 19, 9, 13, 4, 18, 18, 13, 3, 11, 5, 5, 6, 5, 23, 20, 2, 1, 8, 2, 9, 24, 7, 8, 2, 3, 7, 6, 0, 2, 5, 8, 3, 3, 5, 4, 8, 1, 7, 5, 17, 4, 6, 1, 2, 8, 6, 11, 8, 10, 23, 4, 6, 4, 5, 14, 8, 3, 12, 31, 7, 11, 10, 6, 3, 13, 9, 146, 4, 11, 4, 6, 4, 5, 6, 4, 5, 7, 6, 3, 25, 2, 13, 1, 6, 6, 20, 56, 15, 3, 1, 7, 1, 8, 4, 1, 9, 25, 6, 2, 4, 5, 3, 2, 0, 17, 53, 3, 5, 5, 9, 7, 0, 5, 4, 17, 1, 7, 7, 2, 4, 1, 2, 8, 4, 39, 4, 135, 4, 15, 3, 6, 1, 49, 6, 7, 4, 7, 13, 5, 5, 9, 6, 32, 20, 12, 238, 6, 3, 14, 10, 7, 2, 4, 47, 14, 7, 7, 11, 19, 38, 8, 8, 5, 3, 6, 22, 2, 0, 6, 5, 9, 9, 14, 27, 25, 7, 3, 4, 0, 4, 3, 10, 30, 1, 8, 2, 3, 8, 8, 9, 12, 6, 6, 76, 2, 0, 5, 11, 12, 18, 19, 14, 0, 9, 34, 20, 37, 7, 6, 10, 7, 3, 9, 4, 12, 8, 2, 18, 10, 7, 5, 10, 7, 9, 10, 25, 4, 6, 67, 4, 4, 13, 11, 4, 138, 9, 0, 30, 25, 4, 8, 37, 23, 8, 11, 19, 12, 2, 11, 9, 8, 9, 23, 137, 37, 181, 5, 14, 16, 9, 11, 20, 3, 7, 10, 36, 17, 8, 34, 17, 7, 4, 1, 8, 12, 5, 4, 22, 2, 5, 3, 7, 5, 19, 184, 23, 11, 2, 123, 6, 1, 8, 4, 1, 13, 11, 16, 11, 37, 6, 11, 3, 8, 201, 31, 7, 2, 3, 12, 6, 4, 7, 4, 61, 7, 2, 3, 2, 4, 3, 9, 18, 5, 8, 60, 4, 4, 10, 6, 18, 8, 14, 7, 1, 1, 21, 9, 5, 5, 7, 6, 23, 2, 5, 9, 4, 24, 31, 10, 3, 9, 7, 7, 8, 6, 22, 8, 10, 9, 5, 5, 3, 7, 7, 10, 10, 8, 4, 10, 3, 2, 3, 5, 6, 3, 8, 16, 7, 3, 2, 5, 30, 4, 1, 3, 15, 10, 9, 14, 13, 15, 22, 31, 4, 7, 2, 16, 17, 25, 2, 12, 1, 6, 27, 7, 3, 3, 4, 8, 17, 11, 12, 8, 9, 3, 1, 2, 1, 6, 5, 6, 20, 9, 4, 9, 2, 6, 8, 6, 6, 36, 13, 10, 4, 8, 1, 8, 3, 8, 10, 2, 17, 19, 7, 10, 10, 1, 6, 3, 2, 6, 11, 12, 0, 12, 6, 12, 2, 4, 6, 4, 14, 4, 3, 19, 3, 4, 47, 4, 3, 3, 89, 5, 17, 2, 13, 11, 3, 0, 1, 15, 3, 4, 1, 6, 6, 31, 24, 15, 12, 0, 10, 12, 3, 1, 10, 18, 19, 9, 18, 24, 86, 4, 16, 2, 12, 3, 22, 8, 2, 8, 4, 4, 17, 13, 3, 3, 14, 1, 2, 4, 4, 13, 2, 19, 4, 0, 11, 3, 16, 3, 6, 6, 28, 11, 3, 5, 10, 15, 4, 8, 4, 3, 38, 4, 1, 20, 5, 7, 4, 11, 3, 14, 11, 66] high [1, 0, 0, 2, 0, 4, 5, 1, 2, 0, 2, 2, 2, 3, 4, 0, 2, 5, 2, 1, 4, 1, 1, 0, 1, 0, 2, 0, 0, 3, 3, 2, 1, 1, 2, 5, 1, 3, 0, 2, 1, 0, 1, 2, 1, 0, 3, 0, 1, 3, 6, 6, 1, 0, 3, 0, 1, 2, 0, 1, 4, 9, 0, 1, 1, 1, 79, 6, 0, 0, 2, 1, 0, 1, 1, 0, 2, 5, 0, 4, 1, 2, 2, 0, 0, 0, 1, 1, 0, 1, 6, 7, 2, 2, 0, 0, 1, 0, 3, 3, 1, 2, 0, 1, 2, 1, 4, 2, 1, 1, 1, 5, 1, 3, 1, 7, 0, 0, 1, 1, 2, 1, 0, 2, 2, 1, 2, 1, 1, 1, 3, 2, 0, 0, 2, 3, 0, 1, 0, 3, 5, 2, 0, 1, 0, 1, 1, 6, 2, 1, 6, 2, 2, 0, 3, 0, 2, 1, 1, 1, 7, 0, 1, 2, 1, 1, 2, 5, 3, 0, 2, 1, 0, 5, 1, 1, 12, 1, 1, 2, 5, 0, 0, 5, 2, 0, 1, 0, 0, 9, 0, 1, 1, 0, 10, 1, 3, 3, 1, 1, 0, 0, 1, 0, 2, 4, 6, 4, 1, 5, 1, 2, 0, 0, 0, 2, 13, 4, 3, 4, 0, 4, 0, 1, 1, 3, 3, 45, 2, 0, 0, 187, 0, 2, 1, 3, 4, 0, 0, 121, 1, 1, 0, 0, 0, 0, 1, 0, 1, 1, 0, 3, 0, 1, 2, 0, 0, 0, 0, 1, 6, 7, 1, 0, 1, 3, 2, 15, 0, 0, 3, 1, 1, 1, 174, 1, 1, 2, 5, 4, 29, 1, 5, 3, 0, 6, 1, 0, 2, 2, 9, 1, 3, 2, 3, 1, 6, 2, 2, 1, 0, 1, 0, 2, 2, 0, 1, 3, 1, 9, 2, 21, 2, 6, 1, 2, 2, 0, 4, 2, 1, 2, 1, 6, 1, 2, 3, 1, 1, 0, 4, 1, 1, 0, 2, 2, 3, 7, 0, 1, 28, 4, 0, 1, 2, 6, 3, 0, 1, 0, 1, 1, 0, 1, 1, 1, 3, 1, 2, 1, 3, 2, 3, 2, 10, 2, 2, 2, 2, 1, 1, 1, 0, 3, 0, 2, 0, 0, 1, 1, 1, 0, 1, 0, 0, 1, 0, 3, 2, 1, 1, 0, 1, 0, 1, 3, 1, 3, 0, 1, 1, 0, 1, 4, 3, 2, 0, 2, 0, 6, 15, 1, 1, 0, 2, 0, 0, 0, 0, 0, 4, 1, 1, 3, 2, 4, 1, 1, 2, 2, 1, 1, 1, 0, 1, 1, 2, 2, 1, 2, 1, 0, 0, 6, 3, 2, 0, 0, 0, 0, 1, 0, 1, 0, 0, 2, 2, 1, 1, 1, 0, 0, 0, 1, 0, 0, 1, 1, 1, 2, 1, 1, 8, 1, 3, 0, 1, 1, 2, 0, 4, 5, 1, 0, 1, 2, 1, 3, 1, 11, 0, 1, 1, 2, 0, 1, 1, 0, 0, 2, 0, 0, 7, 2, 1, 1, 0, 1, 4, 12, 3, 2, 1, 0, 1, 1, 0, 5, 0, 2, 5, 1, 1, 3, 2, 0, 1, 2, 5, 1, 1, 0, 3, 0, 1, 0, 0, 4, 1, 2, 0, 1, 1, 0, 0, 0, 0, 8, 1, 18, 0, 3, 1, 1, 0, 9, 1, 2, 2, 7, 3, 0, 0, 1, 2, 6, 5, 2, 37, 1, 1, 0, 1, 1, 1, 1, 6, 5, 0, 0, 3, 2, 2, 1, 0, 1, 0, 0, 2, 1, 1, 1, 0, 2, 1, 0, 3, 1, 1, 0, 0, 0, 1, 0, 2, 0, 2, 1, 3, 1, 4, 1, 1, 0, 0, 1, 7, 1, 1, 1, 2, 2, 2, 2, 1, 2, 3, 7, 3, 4, 0, 1, 2, 2, 0, 3, 0, 1, 3, 1, 5, 0, 1, 1, 0, 1, 0, 0, 3, 3, 1, 11, 1, 1, 3, 3, 1, 14, 0, 1, 4, 2, 1, 1, 7, 5, 3, 1, 3, 3, 0, 3, 3, 2, 1, 1, 29, 3, 20, 0, 3, 1, 1, 1, 6, 2, 0, 3, 7, 1, 2, 2, 8, 1, 2, 0, 1, 1, 3, 1, 3, 1, 1, 0, 0, 2, 2, 46, 1, 1, 1, 24, 1, 1, 3, 1, 1, 2, 1, 2, 2, 6, 1, 2, 0, 1, 28, 4, 2, 1, 4, 1, 0, 0, 0, 0, 3, 1, 0, 0, 1, 2, 0, 0, 2, 1, 0, 14, 1, 1, 2, 4, 3, 1, 1, 2, 2, 0, 5, 1, 0, 1, 1, 1, 8, 0, 3, 1, 1, 7, 3, 3, 3, 1, 2, 3, 3, 2, 2, 1, 1, 2, 3, 3, 0, 5, 1, 0, 2, 1, 0, 0, 1, 1, 1, 1, 0, 1, 1, 1, 0, 0, 1, 0, 3, 1, 0, 0, 2, 0, 0, 1, 1, 3, 5, 2, 0, 2, 0, 5, 2, 2, 0, 2, 0, 1, 2, 0, 1, 0, 1, 3, 5, 2, 2, 1, 2, 1, 0, 2, 0, 0, 3, 1, 4, 0, 0, 2, 1, 1, 2, 1, 0, 5, 1, 1, 0, 2, 2, 4, 0, 0, 1, 0, 1, 3, 0, 4, 2, 0, 0, 1, 0, 1, 2, 2, 1, 1, 0, 3, 0, 0, 2, 0, 4, 1, 0, 1, 0, 0, 10, 1, 1, 1, 13, 3, 2, 0, 1, 2, 0, 0, 1, 3, 1, 1, 0, 1, 2, 2, 4, 2, 0, 0, 1, 5, 1, 1, 0, 0, 6, 0, 6, 1, 4, 1, 1, 1, 2, 1, 5, 0, 0, 0, 2, 1, 4, 0, 4, 0, 0, 0, 1, 4, 0, 3, 1, 2, 0, 0, 3, 2, 4, 0, 0, 2, 0, 1, 0, 0, 1, 4, 0, 4, 1, 0, 6, 3, 0, 7, 1, 0, 1, 3, 0, 1, 1, 10]\n"
     ]
    }
   ],
   "source": [
    "# Conteo de mutaciones por impacto funcional determinado por mutator assessor:\n",
    "\n",
    "#NaN\n",
    "#low\n",
    "#medium\n",
    "#neutral\n",
    "#high\n",
    "\n",
    "nn = 0\n",
    "l=0\n",
    "m=0\n",
    "n=0\n",
    "h=0\n",
    "\n",
    "mafi_nn =[]\n",
    "mafi_l =[]\n",
    "mafi_n=[]\n",
    "mafi_m=[]\n",
    "mafi_h=[]\n",
    "\n",
    "\n",
    "for i in range(0, len(pId)):\n",
    "    #print(pId[i])\n",
    "    q = p.get_group(pId[i])\n",
    "    #print(len(q))\n",
    "    for j in range(0, len(q)):\n",
    "        #print(q.Variant_Classification.iloc[j])        \n",
    "        if q.MA_Func_Impact.iloc[j] == 'low':\n",
    "            l=l+1\n",
    "        if q.MA_Func_Impact.iloc[j] == 'medium':\n",
    "            m=m+1\n",
    "        if q.MA_Func_Impact.iloc[j] == 'neutral':\n",
    "            n=n+1\n",
    "        if q.MA_Func_Impact.iloc[j] == 'high':\n",
    "            h=h+1\n",
    "        nn = len(q) - (l+m+n+h)\n",
    "        \n",
    "    mafi_nn.append(nn)\n",
    "    mafi_l.append(l)\n",
    "    mafi_n.append(n)\n",
    "    mafi_m.append(m)\n",
    "    mafi_h.append(h)\n",
    "    nn = 0\n",
    "    l=0\n",
    "    m=0\n",
    "    n=0\n",
    "    h=0\n",
    "    \n",
    "print('nn', mafi_nn, 'low', mafi_l, 'neutral', mafi_n, 'medium', mafi_m, 'high', mafi_h)"
   ]
  },
  {
   "cell_type": "code",
   "execution_count": 106,
   "metadata": {
    "collapsed": true
   },
   "outputs": [],
   "source": [
    "#sns.plt.plot(mut_tot)\n",
    "#sns.plt.plot(mafi_l, 'o')"
   ]
  },
  {
   "cell_type": "code",
   "execution_count": 107,
   "metadata": {
    "collapsed": true
   },
   "outputs": [],
   "source": [
    "# Para hacer un data frame con el conteo de mutaciones:\n",
    "d = list(zip(pId, mut_tot, g_prot_prod, cplx, cadherin, read, pgene, nan_lt, mafi_nn, mafi_l, mafi_n, mafi_m, mafi_h,\n",
    "            missense, silent,  nonsense, fs_ins, if_del, igr,  fs_del, splice_site, if_ins,  intron,\n",
    "            utr3, flank5,rna,  nonstop,  utr5,  stop_ins, stop_del))\n"
   ]
  },
  {
   "cell_type": "code",
   "execution_count": 110,
   "metadata": {},
   "outputs": [
    {
     "data": {
      "text/plain": [
       "Index(['id', 'mutTot', 'mut_GeneWProtProd', 'mut_ComplexLocConst',\n",
       "       'mut_Protocadherin', 'mut_Readthroug', 'mut_PseudoGene',\n",
       "       'mut_NaNLocusType', 'mut_mafiNaN', 'mut_mafiLow', 'mut_mafiNeutral',\n",
       "       'mut_mafiMed', 'mut_mafiHigh', 'missense', 'silent', 'nonsense',\n",
       "       'frame_shift_ins', 'in_frame_del', 'IGR', 'frame_shift_del',\n",
       "       'splice_site', 'in_frame_ins', 'intron', '3utr', '5flank', 'rna',\n",
       "       'nonstop', '5utr', 'stop_codon_ins', 'stop_codon_del'],\n",
       "      dtype='object')"
      ]
     },
     "execution_count": 110,
     "metadata": {},
     "output_type": "execute_result"
    }
   ],
   "source": [
    "# nombrando las columnas y haciendo el dataframe:\n",
    "cols = ['id', 'mutTot', 'mut_GeneWProtProd', 'mut_ComplexLocConst',\n",
    "       'mut_Protocadherin', 'mut_Readthroug', 'mut_PseudoGene', 'mut_NaNLocusType', \n",
    "       'mut_mafiNaN', 'mut_mafiLow', 'mut_mafiNeutral', 'mut_mafiMed', \n",
    "       'mut_mafiHigh', 'missense', 'silent', 'nonsense', 'frame_shift_ins', 'in_frame_del', 'IGR', 'frame_shift_del',\n",
    "        'splice_site', 'in_frame_ins', 'intron', '3utr', '5flank', 'rna', 'nonstop', '5utr', 'stop_codon_ins', 'stop_codon_del']\n",
    "\n",
    "muts_per_pat = pd.DataFrame(d , columns=cols)\n",
    "muts_per_pat.columns"
   ]
  },
  {
   "cell_type": "code",
   "execution_count": 126,
   "metadata": {
    "collapsed": true
   },
   "outputs": [],
   "source": [
    "# Quiero mirar solo el total y el functional impact: \n",
    "tot_mafi = muts_per_pat.drop (['mut_GeneWProtProd', 'mut_ComplexLocConst',\n",
    "       'mut_Protocadherin', 'mut_Readthroug', 'mut_PseudoGene', 'mut_NaNLocusType', \n",
    "         'missense', 'silent', 'nonsense', 'frame_shift_ins', 'in_frame_del', 'IGR', 'frame_shift_del',\n",
    "         'splice_site', 'in_frame_ins', 'intron', '3utr', '5flank', 'rna', 'nonstop', '5utr', \n",
    "          'stop_codon_ins', 'stop_codon_del'], axis=1)\n",
    "\n",
    "# organizadas de mayor a menor numero de mutaciones totales:\n",
    "tot_fi_ord = tot_mafi.sort_values('mutTot', ascending=False)\n",
    "# Una nueva columna que diga en qué posición se encuentra, siendo 1 el que mas mutaciones tiene.\n",
    "\n",
    "#orden= list(range(0, 65)) \n",
    "tot_fi_ord['orden'] = range(1,len(tot_fi_ord)+1)\n",
    "#len(tot_fi_ord)\n",
    "#len(range(1,len(tot_fi_ord)+1))\n"
   ]
  },
  {
   "cell_type": "code",
   "execution_count": 130,
   "metadata": {},
   "outputs": [
    {
     "data": {
      "text/plain": [
       "[<matplotlib.lines.Line2D at 0x150d9fa6c50>]"
      ]
     },
     "execution_count": 130,
     "metadata": {},
     "output_type": "execute_result"
    },
    {
     "data": {
      "image/png": "[encoded data removed]",
      "text/plain": [
       "<matplotlib.figure.Figure at 0x150d9f5ceb8>"
      ]
     },
     "metadata": {},
     "output_type": "display_data"
    }
   ],
   "source": [
    "sns.plt.plot(tot_fi_ord.orden, tot_fi_ord.mutTot)"
   ]
  },
  {
   "cell_type": "code",
   "execution_count": 182,
   "metadata": {},
   "outputs": [
    {
     "data": {
      "image/png": "[encoded data removed]",
      "text/plain": [
       "<matplotlib.figure.Figure at 0x150d9a86da0>"
      ]
     },
     "metadata": {},
     "output_type": "display_data"
    }
   ],
   "source": [
    "tot = tot_fi_ord.mutTot.iloc[1:]\n",
    "N = len(tot)\n",
    "x = np.arange(N)\n",
    "nan_fi = tot_fi_ord.mut_mafiNaN.iloc[1:]\n",
    "p1 = sns.plt.bar(x, tot, color='b')\n",
    "p2 = sns.plt.bar(x, tot, color='g', bottom=tot -nan_fi)"
   ]
  },
  {
   "cell_type": "code",
   "execution_count": 183,
   "metadata": {
    "collapsed": true
   },
   "outputs": [],
   "source": [
    "#muts_per_pat[['mutTot', 'mut_mafiNaN']]"
   ]
  },
  {
   "cell_type": "code",
   "execution_count": 171,
   "metadata": {},
   "outputs": [
    {
     "data": {
      "image/png": "[encoded data removed]",
      "text/plain": [
       "<matplotlib.figure.Figure at 0x150d9a46550>"
      ]
     },
     "metadata": {},
     "output_type": "display_data"
    }
   ],
   "source": [
    "tot = muts_per_pat.mutTot\n",
    "N = len(tot)\n",
    "x = np.arange(N)\n",
    "gwpp = muts_per_pat.mut_GeneWProtProd\n",
    "#npp = sum(muts_per_pat.mutTot) - sum( muts_per_pat.mut_GeneWProtProd)\n",
    "p1 = sns.plt.bar(x, tot, color='r')\n",
    "p3 = sns.plt.bar(x, tot, color='b', bottom=tot-gwpp)"
   ]
  },
  {
   "cell_type": "code",
   "execution_count": 172,
   "metadata": {
    "collapsed": true
   },
   "outputs": [],
   "source": [
    "#muts_per_pat[['mutTot', 'mut_GeneWProtProd']]"
   ]
  },
  {
   "cell_type": "code",
   "execution_count": 174,
   "metadata": {},
   "outputs": [
    {
     "data": {
      "image/png": "[encoded data removed]",
      "text/plain": [
       "<matplotlib.figure.Figure at 0x150db5aa390>"
      ]
     },
     "metadata": {},
     "output_type": "display_data"
    }
   ],
   "source": [
    "tot = muts_per_pat.mutTot\n",
    "N = len(tot)\n",
    "x = np.arange(N)\n",
    "intron_m = muts_per_pat.intron\n",
    "sil_m = muts_per_pat.silent\n",
    "p1 = sns.plt.bar(x, tot, color='g')\n",
    "p3 = sns.plt.bar(x, tot, color='r', bottom=tot-sil_m)\n",
    "#print(intron_m)"
   ]
  },
  {
   "cell_type": "markdown",
   "metadata": {},
   "source": [
    "Cosas encontradas: \n",
    "1. Hay muchos Mutator Assessor functional impact en NaN... \n",
    "2. Hay muchas mutaciones que tienen gene protein product, es por el tipo de archivo que tomamos? En firehose solo esta la parte de mutaciones codificantes? Y aunque no muchas, hay algunos NaN\n",
    "3. En Variant_Classification, todos están clasificados... Usamos estos para hacer las medidas?\n",
    "    - Que puedan tener mucho impacto:\n",
    "      - Missense\n",
    "      - nonsense\n",
    "      - FrameShift indels\n",
    "      - Splice site\n",
    "      - 5' flank\n",
    "      - nonstop\n",
    "      - stop codon indels\n",
    "      \n",
    "      \n",
    "   - Que pueden tener bajo impacto:\n",
    "      - Missense\n",
    "      - Silent\n",
    "      - InFrame indels\n",
    "      - IGR (Intergenic Regions)\n",
    "      - Introns\n",
    "      - 3 and 5 untranslated regions\n",
    "      - rna ¿?\n",
    "\n",
    "\n",
    "\n",
    "__Muchas de las missense tienen la clasificacion MAFI, no todas...__\n",
    "\n",
    "¿Qué tengo que hacer?\n",
    "- Sumar todo lo que sea de bajo impacto y compararlo con el total?\n"
   ]
  }
 ],
 "metadata": {
  "kernelspec": {
   "display_name": "Python 3",
   "language": "python",
   "name": "python3"
  },
  "language_info": {
   "codemirror_mode": {
    "name": "ipython",
    "version": 3
   },
   "file_extension": ".py",
   "mimetype": "text/x-python",
   "name": "python",
   "nbconvert_exporter": "python",
   "pygments_lexer": "ipython3",
   "version": "3.6.1"
  }
 },
 "nbformat": 4,
 "nbformat_minor": 2
}
