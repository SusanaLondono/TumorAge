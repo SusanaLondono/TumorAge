{
 "cells": [
  {
   "cell_type": "code",
   "execution_count": 95,
   "metadata": {
    "collapsed": true
   },
   "outputs": [],
   "source": [
    "import pandas as pd\n",
    "import numpy as np\n",
    "import seaborn as sns\n",
    "sns.set()\n",
    "import matplotlib.pyplot as plt\n",
    "%matplotlib inline "
   ]
  },
  {
   "cell_type": "code",
   "execution_count": 96,
   "metadata": {},
   "outputs": [
    {
     "data": {
      "text/plain": [
       "6457"
      ]
     },
     "execution_count": 96,
     "metadata": {},
     "output_type": "execute_result"
    }
   ],
   "source": [
    "maf = 'maf_OrdenadoxPaciente.txt'\n",
    "data = pd.read_csv(maf, sep='\\t')\n",
    "len(data)"
   ]
  },
  {
   "cell_type": "code",
   "execution_count": 97,
   "metadata": {},
   "outputs": [
    {
     "data": {
      "text/html": [
       "<div>\n",
       "<style>\n",
       "    .dataframe thead tr:only-child th {\n",
       "        text-align: right;\n",
       "    }\n",
       "\n",
       "    .dataframe thead th {\n",
       "        text-align: left;\n",
       "    }\n",
       "\n",
       "    .dataframe tbody tr th {\n",
       "        vertical-align: top;\n",
       "    }\n",
       "</style>\n",
       "<table border=\"1\" class=\"dataframe\">\n",
       "  <thead>\n",
       "    <tr style=\"text-align: right;\">\n",
       "      <th></th>\n",
       "      <th>Unnamed: 0</th>\n",
       "      <th>Hugo_Symbol</th>\n",
       "      <th>Chromosome</th>\n",
       "      <th>Variant_Classification</th>\n",
       "      <th>Variant_Type</th>\n",
       "      <th>i_HGNC_LocusType</th>\n",
       "      <th>is_coding</th>\n",
       "      <th>patient</th>\n",
       "      <th>MA_Func_Impact</th>\n",
       "    </tr>\n",
       "  </thead>\n",
       "  <tbody>\n",
       "    <tr>\n",
       "      <th>0</th>\n",
       "      <td>5371</td>\n",
       "      <td>WDR62</td>\n",
       "      <td>19</td>\n",
       "      <td>Frame_Shift_Ins</td>\n",
       "      <td>INS</td>\n",
       "      <td>gene with protein product</td>\n",
       "      <td>1</td>\n",
       "      <td>TCGA-KL-8323-01A-21D-2310-10</td>\n",
       "      <td>NaN</td>\n",
       "    </tr>\n",
       "    <tr>\n",
       "      <th>1</th>\n",
       "      <td>5372</td>\n",
       "      <td>WDR62</td>\n",
       "      <td>19</td>\n",
       "      <td>Frame_Shift_Ins</td>\n",
       "      <td>INS</td>\n",
       "      <td>gene with protein product</td>\n",
       "      <td>1</td>\n",
       "      <td>TCGA-KL-8323-01A-21D-2310-10</td>\n",
       "      <td>NaN</td>\n",
       "    </tr>\n",
       "    <tr>\n",
       "      <th>2</th>\n",
       "      <td>2866</td>\n",
       "      <td>NOXA1</td>\n",
       "      <td>9</td>\n",
       "      <td>IGR</td>\n",
       "      <td>SNP</td>\n",
       "      <td>gene with protein product</td>\n",
       "      <td>0</td>\n",
       "      <td>TCGA-KL-8323-01A-21D-2310-10</td>\n",
       "      <td>NaN</td>\n",
       "    </tr>\n",
       "    <tr>\n",
       "      <th>3</th>\n",
       "      <td>217</td>\n",
       "      <td>OBSCN</td>\n",
       "      <td>1</td>\n",
       "      <td>Intron</td>\n",
       "      <td>SNP</td>\n",
       "      <td>gene with protein product</td>\n",
       "      <td>0</td>\n",
       "      <td>TCGA-KL-8323-01A-21D-2310-10</td>\n",
       "      <td>NaN</td>\n",
       "    </tr>\n",
       "  </tbody>\n",
       "</table>\n",
       "</div>"
      ],
      "text/plain": [
       "   Unnamed: 0 Hugo_Symbol  Chromosome Variant_Classification Variant_Type  \\\n",
       "0        5371       WDR62          19        Frame_Shift_Ins          INS   \n",
       "1        5372       WDR62          19        Frame_Shift_Ins          INS   \n",
       "2        2866       NOXA1           9                    IGR          SNP   \n",
       "3         217       OBSCN           1                 Intron          SNP   \n",
       "\n",
       "            i_HGNC_LocusType  is_coding                       patient  \\\n",
       "0  gene with protein product          1  TCGA-KL-8323-01A-21D-2310-10   \n",
       "1  gene with protein product          1  TCGA-KL-8323-01A-21D-2310-10   \n",
       "2  gene with protein product          0  TCGA-KL-8323-01A-21D-2310-10   \n",
       "3  gene with protein product          0  TCGA-KL-8323-01A-21D-2310-10   \n",
       "\n",
       "  MA_Func_Impact  \n",
       "0            NaN  \n",
       "1            NaN  \n",
       "2            NaN  \n",
       "3            NaN  "
      ]
     },
     "execution_count": 97,
     "metadata": {},
     "output_type": "execute_result"
    }
   ],
   "source": [
    "# cambiando MA_Func.Impact por MA_Func_Impact, porque el . no me deja completar!\n",
    "data.columns = ['Unnamed: 0', 'Hugo_Symbol', 'Chromosome',\n",
    "       'Variant_Classification', 'Variant_Type', 'i_HGNC_LocusType',\n",
    "       'is_coding', 'patient', 'MA_Func_Impact']\n",
    "data.head(4)"
   ]
  },
  {
   "cell_type": "code",
   "execution_count": 98,
   "metadata": {},
   "outputs": [],
   "source": [
    "# ¿Qué clasificación hay de Mutation Assessor Functional Impact\n",
    "#data.MA_Func_Impact.drop_duplicates()"
   ]
  },
  {
   "cell_type": "markdown",
   "metadata": {},
   "source": [
    "### Tipos de mutaciones que vamos a contar: \n",
    "Se va a contar para cada tipo de mutación cuantas hay por cada paciente. \n",
    "\n",
    "#### Variant classification\n",
    "- Missense_Mutation\n",
    "- Silent\n",
    "- Nonsense_Mutation\n",
    "- Frame_Shift_Ins\n",
    "- In_Frame_Del\n",
    "- IGR\n",
    "- Frame_Shift_Del\n",
    "- Splice_Site\n",
    "- In_Frame_Ins\n",
    "- Intron\n",
    "- 3'UTR\n",
    "- 5'Flank\n",
    "- RNA\n",
    "- Nonstop_Mutation\n",
    "- 5'UTR\n",
    "- Stop_Codon_Ins\n",
    "- Stop_Codon_Del\n",
    "\n",
    "#### Locus Type\n",
    "- gene with protein product\n",
    "- NaN\n",
    "- complex locus constituent\n",
    "- protocadherin\n",
    "- readthrough\n",
    "- pseudogene\n",
    "\n",
    "#### MutatorAssessor Functional Impact (MAFI)\n",
    "\n",
    "- NaN\n",
    "- low\n",
    "- medium\n",
    "- neutral\n",
    "- high"
   ]
  },
  {
   "cell_type": "code",
   "execution_count": 99,
   "metadata": {},
   "outputs": [
    {
     "data": {
      "text/plain": [
       "66"
      ]
     },
     "execution_count": 99,
     "metadata": {},
     "output_type": "execute_result"
    }
   ],
   "source": [
    "# Identificación de los pacientes en una lista: \n",
    "pId = data.patient.drop_duplicates()\n",
    "pId=pId.tolist()\n",
    "len(pId) # Hay 66 pacientes"
   ]
  },
  {
   "cell_type": "code",
   "execution_count": 100,
   "metadata": {},
   "outputs": [
    {
     "data": {
      "text/plain": [
       "66"
      ]
     },
     "execution_count": 100,
     "metadata": {},
     "output_type": "execute_result"
    }
   ],
   "source": [
    "# Agrupar los datos por paciente, para poder contar las mutaciones de cada uno\n",
    "p = data.groupby('patient')\n",
    "len(p.groups)\n",
    "#p1 = p.get_group(pId[0])\n",
    "#p1.MA_Func_Impact.count()\n"
   ]
  },
  {
   "cell_type": "code",
   "execution_count": 101,
   "metadata": {},
   "outputs": [],
   "source": [
    "# Conteo de mutaciones totales, para cada paciente:\n",
    "mut_tot = []\n",
    "for i in range(0,len(pId)):\n",
    "    #print(len(pId))\n",
    "    q = p.get_group(pId[i])\n",
    "    mut_tot.append(len(q))\n",
    "    #print(q)\n",
    "#print(mut_tot)\n",
    "\n",
    "#print('suma total: ', sum(mut_tot))\n"
   ]
  },
  {
   "cell_type": "code",
   "execution_count": 102,
   "metadata": {},
   "outputs": [],
   "source": [
    "# Conteo de mutaciones por Variant_classification: \n",
    "\n",
    "missense = []\n",
    "silent = []\n",
    "nonsense = []\n",
    "fs_ins = []\n",
    "if_del =[]\n",
    "igr = []\n",
    "fs_del =[]\n",
    "splice_site =[]\n",
    "if_ins =[]\n",
    "intron =[]\n",
    "utr3 =[]\n",
    "flank5=[]\n",
    "rna = []\n",
    "nonstop =[]\n",
    "utr5 =[]\n",
    "stop_ins =[]\n",
    "stop_del =[]\n",
    "\n",
    "ms = 0\n",
    "s = 0\n",
    "nons = 0\n",
    "fsi =0\n",
    "ifd = 0\n",
    "ig = 0\n",
    "fsd = 0\n",
    "ss = 0\n",
    "ifi = 0\n",
    "intr = 0\n",
    "u3 = 0\n",
    "f5 = 0\n",
    "arn = 0\n",
    "nstop = 0\n",
    "u5 = 0\n",
    "sci = 0\n",
    "scd = 0\n",
    "\n",
    "for i in range(0, len(pId)):\n",
    "    #print(pId[i])\n",
    "    q = p.get_group(pId[i])\n",
    "    #print(len(q))\n",
    "    for j in range(0, len(q)):\n",
    "        #print(q.Variant_Classification.iloc[j])\n",
    "        if q.Variant_Classification.iloc[j] == 'Missense_Mutation':\n",
    "            ms = ms + 1\n",
    "        if q.Variant_Classification.iloc[j] == 'Silent':\n",
    "            s = s + 1\n",
    "        if q.Variant_Classification.iloc[j] == 'Nonsense_Mutation':\n",
    "            nons = nons + 1\n",
    "        if q.Variant_Classification.iloc[j] == 'Frame_Shift_Ins':\n",
    "            fsi = fsi + 1\n",
    "        if q.Variant_Classification.iloc[j] == 'In_Frame_Del':\n",
    "            ifd = ifd + 1\n",
    "        if q.Variant_Classification.iloc[j] == 'IGR':\n",
    "            ig = ig + 1\n",
    "        if q.Variant_Classification.iloc[j] == 'Frame_Shift_Del':\n",
    "            fsd = fsd + 1\n",
    "        if q.Variant_Classification.iloc[j] == 'Splice_Site':\n",
    "            ss = ss + 1\n",
    "        if q.Variant_Classification.iloc[j] == 'In_Frame_Ins':\n",
    "            ifi = ifi + 1\n",
    "        if q.Variant_Classification.iloc[j] == 'Intron':\n",
    "            intr = intr + 1\n",
    "        if q.Variant_Classification.iloc[j] == '3\\'UTR':\n",
    "            u3 = u3 + 1\n",
    "        if q.Variant_Classification.iloc[j] == '5\\'Flank':\n",
    "            f5 = f5 + 1\n",
    "        if q.Variant_Classification.iloc[j] == 'RNA':\n",
    "            arn = arn + 1\n",
    "        if q.Variant_Classification.iloc[j] == 'Nonstop_Mutation':\n",
    "            nstop = nstop + 1\n",
    "        if q.Variant_Classification.iloc[j] == '5\\'UTR':\n",
    "            u5 = u5 + 1\n",
    "        if q.Variant_Classification.iloc[j] == 'Stop_Codon_Ins':\n",
    "            sci = sci + 1\n",
    "        if q.Variant_Classification.iloc[j] == 'Stop_Codon_Del':\n",
    "            scd = scd + 1        \n",
    "    missense.append(ms)\n",
    "    silent.append(s)\n",
    "    nonsense.append(nons)\n",
    "    fs_ins.append(fsi)\n",
    "    if_del.append(ifd)\n",
    "    igr.append(ig)\n",
    "    fs_del.append(fsd)\n",
    "    splice_site.append(ss)\n",
    "    if_ins.append(ifi)\n",
    "    intron.append(intr)\n",
    "    utr3.append(u3)\n",
    "    flank5.append(f5)\n",
    "    rna.append(arn)\n",
    "    nonstop.append(nstop)\n",
    "    utr5.append(u5)\n",
    "    stop_ins.append(sci)\n",
    "    stop_del.append(scd)\n",
    "    ms = 0\n",
    "    s = 0\n",
    "    nons = 0\n",
    "    fsi =0\n",
    "    ifd = 0\n",
    "    ig = 0\n",
    "    fsd = 0\n",
    "    ss = 0\n",
    "    ifi = 0\n",
    "    intr = 0\n",
    "    u3 = 0\n",
    "    f5 = 0\n",
    "    arn = 0\n",
    "    nstop = 0\n",
    "    u5 = 0\n",
    "    sci = 0\n",
    "    scd = 0\n",
    "#print('missense', missense, 'silent', silent, 'nonsense', nonsense, 'fsi', fs_ins, 'ifd', if_del, 'igr', igr, 'fsd', fs_del,\n",
    " #    'splice site', splice_site, 'if_ins', if_ins, 'intron', intron, 'utr3', utr3, 'flank 5', flank5, \n",
    "  #   'rna', rna, 'nonstop', nonstop, 'utr5', utr5, 'stop ins', stop_ins, 'stop_del', stop_del, i)\n"
   ]
  },
  {
   "cell_type": "code",
   "execution_count": 103,
   "metadata": {},
   "outputs": [],
   "source": [
    "# Conteo de mutaciones por locus type:\n",
    "\n",
    "g_prot_prod = []\n",
    "cadherin = []\n",
    "read = []\n",
    "pgene = []\n",
    "nan_lt = []\n",
    "cplx = []\n",
    "\n",
    "pp = 0\n",
    "nn = 0\n",
    "clx = 0\n",
    "cad = 0\n",
    "r = 0\n",
    "pg = 0\n",
    "\n",
    "for i in range(0, len(pId)):\n",
    "    #print(pId[i])\n",
    "    q = p.get_group(pId[i])\n",
    "    #print(len(q))\n",
    "    for j in range(0, len(q)):\n",
    "        #print(q.Variant_Classification.iloc[j])\n",
    "        if q.i_HGNC_LocusType.iloc[j] == 'gene with protein product':\n",
    "            pp = pp + 1\n",
    "        if q.i_HGNC_LocusType.iloc[j] == 'complex locus constituent':\n",
    "            clx = clx + 1\n",
    "        if q.i_HGNC_LocusType.iloc[j] == 'protocadherin':\n",
    "            cad = cad + 1\n",
    "        if q.i_HGNC_LocusType.iloc[j] == 'readthrough':\n",
    "            r = r + 1\n",
    "        if q.i_HGNC_LocusType.iloc[j] == 'pseudogene':\n",
    "            pg = pg + 1\n",
    "        nn = len(q)- (pp+clx+cad+r+pg)\n",
    "    g_prot_prod.append(pp)\n",
    "    cadherin.append(cad)\n",
    "    read.append(r)\n",
    "    pgene.append(pg)\n",
    "    nan_lt.append(nn)\n",
    "    cplx.append(clx)\n",
    "    pp = 0\n",
    "    nn = 0\n",
    "    clx = 0\n",
    "    cad = 0\n",
    "    r = 0\n",
    "    pg = 0\n",
    "\n",
    "#0       gene with protein product\n",
    "#70                            NaN\n",
    "#571     complex locus constituent\n",
    "#1644                protocadherin\n",
    "#3543                  readthrough\n",
    "#5118                   pseudogene\n",
    "\n",
    "#print('gpp', g_prot_prod, 'cad', cadherin, 'r', read,'pgene', pgene,'nan', nan_lt,'complex', cplx)"
   ]
  },
  {
   "cell_type": "code",
   "execution_count": 104,
   "metadata": {},
   "outputs": [
    {
     "data": {
      "text/plain": [
       "[<matplotlib.lines.Line2D at 0x150da17e7b8>]"
      ]
     },
     "execution_count": 104,
     "metadata": {},
     "output_type": "execute_result"
    },
    {
     "data": {
      "image/png": "[encoded data removed]",
      "text/plain": [
       "<matplotlib.figure.Figure at 0x150da0cb7f0>"
      ]
     },
     "metadata": {},
     "output_type": "display_data"
    }
   ],
   "source": [
    "plt.plot(mut_tot)\n",
    "#plt.plot(g_prot_prod)"
   ]
  },
  {
   "cell_type": "code",
   "execution_count": 105,
   "metadata": {
    "scrolled": true
   },
   "outputs": [],
   "source": [
    "# Conteo de mutaciones por impacto funcional determinado por mutator assessor:\n",
    "\n",
    "#NaN\n",
    "#low\n",
    "#medium\n",
    "#neutral\n",
    "#high\n",
    "\n",
    "nn = 0\n",
    "l=0\n",
    "m=0\n",
    "n=0\n",
    "h=0\n",
    "\n",
    "mafi_nn =[]\n",
    "mafi_l =[]\n",
    "mafi_n=[]\n",
    "mafi_m=[]\n",
    "mafi_h=[]\n",
    "\n",
    "\n",
    "for i in range(0, len(pId)):\n",
    "    #print(pId[i])\n",
    "    q = p.get_group(pId[i])\n",
    "    #print(len(q))\n",
    "    for j in range(0, len(q)):\n",
    "        #print(q.Variant_Classification.iloc[j])        \n",
    "        if q.MA_Func_Impact.iloc[j] == 'low':\n",
    "            l=l+1\n",
    "        if q.MA_Func_Impact.iloc[j] == 'medium':\n",
    "            m=m+1\n",
    "        if q.MA_Func_Impact.iloc[j] == 'neutral':\n",
    "            n=n+1\n",
    "        if q.MA_Func_Impact.iloc[j] == 'high':\n",
    "            h=h+1\n",
    "        nn = len(q) - (l+m+n+h)\n",
    "        \n",
    "    mafi_nn.append(nn)\n",
    "    mafi_l.append(l)\n",
    "    mafi_n.append(n)\n",
    "    mafi_m.append(m)\n",
    "    mafi_h.append(h)\n",
    "    nn = 0\n",
    "    l=0\n",
    "    m=0\n",
    "    n=0\n",
    "    h=0\n",
    "    \n",
    "#print('nn', mafi_nn, 'low', mafi_l, 'neutral', mafi_n, 'medium', mafi_m, 'high', mafi_h)"
   ]
  },
  {
   "cell_type": "code",
   "execution_count": 106,
   "metadata": {},
   "outputs": [],
   "source": [
    "#sns.plt.plot(mut_tot)\n",
    "#sns.plt.plot(mafi_l, 'o')"
   ]
  },
  {
   "cell_type": "code",
   "execution_count": 107,
   "metadata": {
    "collapsed": true
   },
   "outputs": [],
   "source": [
    "# Para hacer un data frame con el conteo de mutaciones:\n",
    "d = list(zip(pId, mut_tot, g_prot_prod, cplx, cadherin, read, pgene, nan_lt, mafi_nn, mafi_l, mafi_n, mafi_m, mafi_h,\n",
    "            missense, silent,  nonsense, fs_ins, if_del, igr,  fs_del, splice_site, if_ins,  intron,\n",
    "            utr3, flank5,rna,  nonstop,  utr5,  stop_ins, stop_del))\n"
   ]
  },
  {
   "cell_type": "code",
   "execution_count": 110,
   "metadata": {},
   "outputs": [
    {
     "data": {
      "text/plain": [
       "Index(['id', 'mutTot', 'mut_GeneWProtProd', 'mut_ComplexLocConst',\n",
       "       'mut_Protocadherin', 'mut_Readthroug', 'mut_PseudoGene',\n",
       "       'mut_NaNLocusType', 'mut_mafiNaN', 'mut_mafiLow', 'mut_mafiNeutral',\n",
       "       'mut_mafiMed', 'mut_mafiHigh', 'missense', 'silent', 'nonsense',\n",
       "       'frame_shift_ins', 'in_frame_del', 'IGR', 'frame_shift_del',\n",
       "       'splice_site', 'in_frame_ins', 'intron', '3utr', '5flank', 'rna',\n",
       "       'nonstop', '5utr', 'stop_codon_ins', 'stop_codon_del'],\n",
       "      dtype='object')"
      ]
     },
     "execution_count": 110,
     "metadata": {},
     "output_type": "execute_result"
    }
   ],
   "source": [
    "# nombrando las columnas y haciendo el dataframe:\n",
    "cols = ['id', 'mutTot', 'mut_GeneWProtProd', 'mut_ComplexLocConst',\n",
    "       'mut_Protocadherin', 'mut_Readthroug', 'mut_PseudoGene', 'mut_NaNLocusType', \n",
    "       'mut_mafiNaN', 'mut_mafiLow', 'mut_mafiNeutral', 'mut_mafiMed', \n",
    "       'mut_mafiHigh', 'missense', 'silent', 'nonsense', 'frame_shift_ins', 'in_frame_del', 'IGR', 'frame_shift_del',\n",
    "        'splice_site', 'in_frame_ins', 'intron', '3utr', '5flank', 'rna', 'nonstop', '5utr', 'stop_codon_ins', 'stop_codon_del']\n",
    "\n",
    "muts_per_pat = pd.DataFrame(d , columns=cols)\n",
    "muts_per_pat.columns"
   ]
  },
  {
   "cell_type": "code",
   "execution_count": 126,
   "metadata": {},
   "outputs": [],
   "source": [
    "# Quiero mirar solo el total y el functional impact: \n",
    "tot_mafi = muts_per_pat.drop (['mut_GeneWProtProd', 'mut_ComplexLocConst',\n",
    "       'mut_Protocadherin', 'mut_Readthroug', 'mut_PseudoGene', 'mut_NaNLocusType', \n",
    "         'missense', 'silent', 'nonsense', 'frame_shift_ins', 'in_frame_del', 'IGR', 'frame_shift_del',\n",
    "         'splice_site', 'in_frame_ins', 'intron', '3utr', '5flank', 'rna', 'nonstop', '5utr', \n",
    "          'stop_codon_ins', 'stop_codon_del'], axis=1)\n",
    "\n",
    "# organizadas de mayor a menor numero de mutaciones totales:\n",
    "tot_fi_ord = tot_mafi.sort_values('mutTot', ascending=False)\n",
    "# Una nueva columna que diga en qué posición se encuentra, siendo 1 el que mas mutaciones tiene.\n",
    "\n",
    "#orden= list(range(0, 65)) \n",
    "tot_fi_ord['orden'] = range(1,len(tot_fi_ord)+1)\n",
    "#len(tot_fi_ord)\n",
    "#len(range(1,len(tot_fi_ord)+1))\n"
   ]
  },
  {
   "cell_type": "code",
   "execution_count": 130,
   "metadata": {},
   "outputs": [
    {
     "data": {
      "text/plain": [
       "[<matplotlib.lines.Line2D at 0x150d9fa6c50>]"
      ]
     },
     "execution_count": 130,
     "metadata": {},
     "output_type": "execute_result"
    },
    {
     "data": {
      "image/png": "[encoded data removed]",
      "text/plain": [
       "<matplotlib.figure.Figure at 0x150d9f5ceb8>"
      ]
     },
     "metadata": {},
     "output_type": "display_data"
    }
   ],
   "source": [
    "sns.plt.plot(tot_fi_ord.orden, tot_fi_ord.mutTot)"
   ]
  },
  {
   "cell_type": "code",
   "execution_count": 182,
   "metadata": {},
   "outputs": [
    {
     "data": {
      "image/png": "[encoded data removed]",
      "text/plain": [
       "<matplotlib.figure.Figure at 0x150d9a86da0>"
      ]
     },
     "metadata": {},
     "output_type": "display_data"
    }
   ],
   "source": [
    "tot = tot_fi_ord.mutTot.iloc[1:]\n",
    "N = len(tot)\n",
    "x = np.arange(N)\n",
    "nan_fi = tot_fi_ord.mut_mafiNaN.iloc[1:]\n",
    "p1 = sns.plt.bar(x, tot, color='b')\n",
    "p2 = sns.plt.bar(x, tot, color='g', bottom=tot -nan_fi)"
   ]
  },
  {
   "cell_type": "code",
   "execution_count": 183,
   "metadata": {},
   "outputs": [],
   "source": [
    "#muts_per_pat[['mutTot', 'mut_mafiNaN']]"
   ]
  },
  {
   "cell_type": "code",
   "execution_count": 171,
   "metadata": {},
   "outputs": [
    {
     "data": {
      "image/png": "[encoded data removed]",
      "text/plain": [
       "<matplotlib.figure.Figure at 0x150d9a46550>"
      ]
     },
     "metadata": {},
     "output_type": "display_data"
    }
   ],
   "source": [
    "tot = muts_per_pat.mutTot\n",
    "N = len(tot)\n",
    "x = np.arange(N)\n",
    "gwpp = muts_per_pat.mut_GeneWProtProd\n",
    "#npp = sum(muts_per_pat.mutTot) - sum( muts_per_pat.mut_GeneWProtProd)\n",
    "p1 = sns.plt.bar(x, tot, color='r')\n",
    "p3 = sns.plt.bar(x, tot, color='b', bottom=tot-gwpp)"
   ]
  },
  {
   "cell_type": "code",
   "execution_count": 172,
   "metadata": {},
   "outputs": [],
   "source": [
    "#muts_per_pat[['mutTot', 'mut_GeneWProtProd']]"
   ]
  },
  {
   "cell_type": "code",
   "execution_count": 174,
   "metadata": {},
   "outputs": [
    {
     "data": {
      "image/png": "[encoded data removed]",
      "text/plain": [
       "<matplotlib.figure.Figure at 0x150db5aa390>"
      ]
     },
     "metadata": {},
     "output_type": "display_data"
    }
   ],
   "source": [
    "tot = muts_per_pat.mutTot\n",
    "N = len(tot)\n",
    "x = np.arange(N)\n",
    "intron_m = muts_per_pat.intron\n",
    "sil_m = muts_per_pat.silent\n",
    "p1 = sns.plt.bar(x, tot, color='g')\n",
    "p3 = sns.plt.bar(x, tot, color='r', bottom=tot-sil_m)\n",
    "#print(intron_m)"
   ]
  },
  {
   "cell_type": "markdown",
   "metadata": {},
   "source": [
    "Cosas encontradas: \n",
    "1. Hay muchos Mutator Assessor functional impact en NaN... \n",
    "2. Hay muchas mutaciones que tienen gene protein product, es por el tipo de archivo que tomamos? En firehose solo esta la parte de mutaciones codificantes? Y aunque no muchas, hay algunos NaN\n",
    "3. En Variant_Classification, todos están clasificados... Usamos estos para hacer las medidas?\n",
    "    - Que puedan tener mucho impacto:\n",
    "      - Missense\n",
    "      - nonsense\n",
    "      - FrameShift indels\n",
    "      - Splice site\n",
    "      - 5' flank\n",
    "      - nonstop\n",
    "      - stop codon indels\n",
    "      \n",
    "      \n",
    "   - Que pueden tener bajo impacto:\n",
    "      - Missense\n",
    "      - Silent\n",
    "      - InFrame indels\n",
    "      - IGR (Intergenic Regions)\n",
    "      - Introns\n",
    "      - 3 and 5 untranslated regions\n",
    "      - rna ¿?\n",
    "\n",
    "\n",
    "\n",
    "__Muchas de las missense tienen la clasificacion MAFI, no todas...__\n",
    "\n",
    "¿Qué tengo que hacer?\n",
    "- Sumar todo lo que sea de bajo impacto y compararlo con el total?\n"
   ]
  }
 ],
 "metadata": {
  "kernelspec": {
   "display_name": "Python 3",
   "language": "python",
   "name": "python3"
  },
  "language_info": {
   "codemirror_mode": {
    "name": "ipython",
    "version": 3
   },
   "file_extension": ".py",
   "mimetype": "text/x-python",
   "name": "python",
   "nbconvert_exporter": "python",
   "pygments_lexer": "ipython3",
   "version": "3.6.1"
  }
 },
 "nbformat": 4,
 "nbformat_minor": 2
}
